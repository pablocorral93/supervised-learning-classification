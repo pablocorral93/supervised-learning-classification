{
  "cells": [
    {
      "cell_type": "markdown",
      "metadata": {
        "id": "IZ5cp2Q51i1o"
      },
      "source": [
        "# Before your start:\n",
        "- Read the README.md file\n",
        "- Comment as much as you can and use the resources in the README.md file\n",
        "- Happy learning!"
      ]
    },
    {
      "cell_type": "code",
      "execution_count": 1,
      "metadata": {
        "id": "wx7Cc4DM1i1q"
      },
      "outputs": [],
      "source": [
        "# Import your libraries:\n",
        "\n",
        "%matplotlib inline\n",
        "\n",
        "import numpy as np\n",
        "import pandas as pd\n",
        "import matplotlib.pyplot as plt\n",
        "import seaborn as sns"
      ]
    },
    {
      "cell_type": "markdown",
      "metadata": {
        "id": "i6oMHKcj1i1s"
      },
      "source": [
        "In this lab, we will explore a dataset that describes websites with different features and labels them either benign or malicious . We will use supervised learning algorithms to figure out what feature patterns malicious websites are likely to have and use our model to predict malicious websites.\n",
        "\n",
        "# Challenge 1 - Explore The Dataset\n",
        "\n",
        "Let's start by exploring the dataset. First load the data file:"
      ]
    },
    {
      "cell_type": "code",
      "execution_count": 2,
      "metadata": {
        "id": "y9R4fexE1i1s"
      },
      "outputs": [],
      "source": [
        "websites = pd.read_csv('website.csv')"
      ]
    },
    {
      "cell_type": "markdown",
      "metadata": {
        "id": "ky1wWO4E1i1s"
      },
      "source": [
        "#### Explore the data from an bird's-eye view.\n",
        "\n",
        "You should already been very familiar with the procedures now so we won't provide the instructions step by step. Reflect on what you did in the previous labs and explore the dataset.\n",
        "\n",
        "Things you'll be looking for:\n",
        "\n",
        "* What the dataset looks like?\n",
        "* What are the data types?\n",
        "* Which columns contain the features of the websites?\n",
        "* Which column contains the feature we will predict? What is the code standing for benign vs malicious websites?\n",
        "* Do we need to transform any of the columns from categorical to ordinal values? If so what are these columns?\n",
        "\n",
        "Feel free to add additional cells for your explorations. Make sure to comment what you find out."
      ]
    },
    {
      "cell_type": "code",
      "execution_count": 3,
      "metadata": {
        "colab": {
          "base_uri": "https://localhost:8080/",
          "height": 325
        },
        "id": "KLPncTx11i1t",
        "outputId": "da8981b2-9840-4f28-b60f-a67385631111"
      },
      "outputs": [
        {
          "output_type": "execute_result",
          "data": {
            "text/plain": [
              "       URL  URL_LENGTH  NUMBER_SPECIAL_CHARACTERS     CHARSET  \\\n",
              "0   M0_109          16                          7  iso-8859-1   \n",
              "1  B0_2314          16                          6       UTF-8   \n",
              "2   B0_911          16                          6    us-ascii   \n",
              "3   B0_113          17                          6  ISO-8859-1   \n",
              "4   B0_403          17                          6       UTF-8   \n",
              "\n",
              "                  SERVER  CONTENT_LENGTH WHOIS_COUNTRY WHOIS_STATEPRO  \\\n",
              "0                  nginx           263.0          None           None   \n",
              "1          Apache/2.4.10         15087.0          None           None   \n",
              "2  Microsoft-HTTPAPI/2.0           324.0          None           None   \n",
              "3                  nginx           162.0            US             AK   \n",
              "4                   None        124140.0            US             TX   \n",
              "\n",
              "      WHOIS_REGDATE WHOIS_UPDATED_DATE  ...  DIST_REMOTE_TCP_PORT  REMOTE_IPS  \\\n",
              "0  10/10/2015 18:21               None  ...                     0           2   \n",
              "1              None               None  ...                     7           4   \n",
              "2              None               None  ...                     0           0   \n",
              "3    7/10/1997 4:00    12/09/2013 0:45  ...                    22           3   \n",
              "4   12/05/1996 0:00    11/04/2017 0:00  ...                     2           5   \n",
              "\n",
              "   APP_BYTES  SOURCE_APP_PACKETS  REMOTE_APP_PACKETS  SOURCE_APP_BYTES  \\\n",
              "0        700                   9                  10              1153   \n",
              "1       1230                  17                  19              1265   \n",
              "2          0                   0                   0                 0   \n",
              "3       3812                  39                  37             18784   \n",
              "4       4278                  61                  62            129889   \n",
              "\n",
              "   REMOTE_APP_BYTES  APP_PACKETS  DNS_QUERY_TIMES  Type  \n",
              "0               832            9              2.0     1  \n",
              "1              1230           17              0.0     0  \n",
              "2                 0            0              0.0     0  \n",
              "3              4380           39              8.0     0  \n",
              "4              4586           61              4.0     0  \n",
              "\n",
              "[5 rows x 21 columns]"
            ],
            "text/html": [
              "\n",
              "  <div id=\"df-e86e7165-b4b8-4d10-8afd-87fbeff80537\" class=\"colab-df-container\">\n",
              "    <div>\n",
              "<style scoped>\n",
              "    .dataframe tbody tr th:only-of-type {\n",
              "        vertical-align: middle;\n",
              "    }\n",
              "\n",
              "    .dataframe tbody tr th {\n",
              "        vertical-align: top;\n",
              "    }\n",
              "\n",
              "    .dataframe thead th {\n",
              "        text-align: right;\n",
              "    }\n",
              "</style>\n",
              "<table border=\"1\" class=\"dataframe\">\n",
              "  <thead>\n",
              "    <tr style=\"text-align: right;\">\n",
              "      <th></th>\n",
              "      <th>URL</th>\n",
              "      <th>URL_LENGTH</th>\n",
              "      <th>NUMBER_SPECIAL_CHARACTERS</th>\n",
              "      <th>CHARSET</th>\n",
              "      <th>SERVER</th>\n",
              "      <th>CONTENT_LENGTH</th>\n",
              "      <th>WHOIS_COUNTRY</th>\n",
              "      <th>WHOIS_STATEPRO</th>\n",
              "      <th>WHOIS_REGDATE</th>\n",
              "      <th>WHOIS_UPDATED_DATE</th>\n",
              "      <th>...</th>\n",
              "      <th>DIST_REMOTE_TCP_PORT</th>\n",
              "      <th>REMOTE_IPS</th>\n",
              "      <th>APP_BYTES</th>\n",
              "      <th>SOURCE_APP_PACKETS</th>\n",
              "      <th>REMOTE_APP_PACKETS</th>\n",
              "      <th>SOURCE_APP_BYTES</th>\n",
              "      <th>REMOTE_APP_BYTES</th>\n",
              "      <th>APP_PACKETS</th>\n",
              "      <th>DNS_QUERY_TIMES</th>\n",
              "      <th>Type</th>\n",
              "    </tr>\n",
              "  </thead>\n",
              "  <tbody>\n",
              "    <tr>\n",
              "      <th>0</th>\n",
              "      <td>M0_109</td>\n",
              "      <td>16</td>\n",
              "      <td>7</td>\n",
              "      <td>iso-8859-1</td>\n",
              "      <td>nginx</td>\n",
              "      <td>263.0</td>\n",
              "      <td>None</td>\n",
              "      <td>None</td>\n",
              "      <td>10/10/2015 18:21</td>\n",
              "      <td>None</td>\n",
              "      <td>...</td>\n",
              "      <td>0</td>\n",
              "      <td>2</td>\n",
              "      <td>700</td>\n",
              "      <td>9</td>\n",
              "      <td>10</td>\n",
              "      <td>1153</td>\n",
              "      <td>832</td>\n",
              "      <td>9</td>\n",
              "      <td>2.0</td>\n",
              "      <td>1</td>\n",
              "    </tr>\n",
              "    <tr>\n",
              "      <th>1</th>\n",
              "      <td>B0_2314</td>\n",
              "      <td>16</td>\n",
              "      <td>6</td>\n",
              "      <td>UTF-8</td>\n",
              "      <td>Apache/2.4.10</td>\n",
              "      <td>15087.0</td>\n",
              "      <td>None</td>\n",
              "      <td>None</td>\n",
              "      <td>None</td>\n",
              "      <td>None</td>\n",
              "      <td>...</td>\n",
              "      <td>7</td>\n",
              "      <td>4</td>\n",
              "      <td>1230</td>\n",
              "      <td>17</td>\n",
              "      <td>19</td>\n",
              "      <td>1265</td>\n",
              "      <td>1230</td>\n",
              "      <td>17</td>\n",
              "      <td>0.0</td>\n",
              "      <td>0</td>\n",
              "    </tr>\n",
              "    <tr>\n",
              "      <th>2</th>\n",
              "      <td>B0_911</td>\n",
              "      <td>16</td>\n",
              "      <td>6</td>\n",
              "      <td>us-ascii</td>\n",
              "      <td>Microsoft-HTTPAPI/2.0</td>\n",
              "      <td>324.0</td>\n",
              "      <td>None</td>\n",
              "      <td>None</td>\n",
              "      <td>None</td>\n",
              "      <td>None</td>\n",
              "      <td>...</td>\n",
              "      <td>0</td>\n",
              "      <td>0</td>\n",
              "      <td>0</td>\n",
              "      <td>0</td>\n",
              "      <td>0</td>\n",
              "      <td>0</td>\n",
              "      <td>0</td>\n",
              "      <td>0</td>\n",
              "      <td>0.0</td>\n",
              "      <td>0</td>\n",
              "    </tr>\n",
              "    <tr>\n",
              "      <th>3</th>\n",
              "      <td>B0_113</td>\n",
              "      <td>17</td>\n",
              "      <td>6</td>\n",
              "      <td>ISO-8859-1</td>\n",
              "      <td>nginx</td>\n",
              "      <td>162.0</td>\n",
              "      <td>US</td>\n",
              "      <td>AK</td>\n",
              "      <td>7/10/1997 4:00</td>\n",
              "      <td>12/09/2013 0:45</td>\n",
              "      <td>...</td>\n",
              "      <td>22</td>\n",
              "      <td>3</td>\n",
              "      <td>3812</td>\n",
              "      <td>39</td>\n",
              "      <td>37</td>\n",
              "      <td>18784</td>\n",
              "      <td>4380</td>\n",
              "      <td>39</td>\n",
              "      <td>8.0</td>\n",
              "      <td>0</td>\n",
              "    </tr>\n",
              "    <tr>\n",
              "      <th>4</th>\n",
              "      <td>B0_403</td>\n",
              "      <td>17</td>\n",
              "      <td>6</td>\n",
              "      <td>UTF-8</td>\n",
              "      <td>None</td>\n",
              "      <td>124140.0</td>\n",
              "      <td>US</td>\n",
              "      <td>TX</td>\n",
              "      <td>12/05/1996 0:00</td>\n",
              "      <td>11/04/2017 0:00</td>\n",
              "      <td>...</td>\n",
              "      <td>2</td>\n",
              "      <td>5</td>\n",
              "      <td>4278</td>\n",
              "      <td>61</td>\n",
              "      <td>62</td>\n",
              "      <td>129889</td>\n",
              "      <td>4586</td>\n",
              "      <td>61</td>\n",
              "      <td>4.0</td>\n",
              "      <td>0</td>\n",
              "    </tr>\n",
              "  </tbody>\n",
              "</table>\n",
              "<p>5 rows × 21 columns</p>\n",
              "</div>\n",
              "    <div class=\"colab-df-buttons\">\n",
              "\n",
              "  <div class=\"colab-df-container\">\n",
              "    <button class=\"colab-df-convert\" onclick=\"convertToInteractive('df-e86e7165-b4b8-4d10-8afd-87fbeff80537')\"\n",
              "            title=\"Convert this dataframe to an interactive table.\"\n",
              "            style=\"display:none;\">\n",
              "\n",
              "  <svg xmlns=\"http://www.w3.org/2000/svg\" height=\"24px\" viewBox=\"0 -960 960 960\">\n",
              "    <path d=\"M120-120v-720h720v720H120Zm60-500h600v-160H180v160Zm220 220h160v-160H400v160Zm0 220h160v-160H400v160ZM180-400h160v-160H180v160Zm440 0h160v-160H620v160ZM180-180h160v-160H180v160Zm440 0h160v-160H620v160Z\"/>\n",
              "  </svg>\n",
              "    </button>\n",
              "\n",
              "  <style>\n",
              "    .colab-df-container {\n",
              "      display:flex;\n",
              "      gap: 12px;\n",
              "    }\n",
              "\n",
              "    .colab-df-convert {\n",
              "      background-color: #E8F0FE;\n",
              "      border: none;\n",
              "      border-radius: 50%;\n",
              "      cursor: pointer;\n",
              "      display: none;\n",
              "      fill: #1967D2;\n",
              "      height: 32px;\n",
              "      padding: 0 0 0 0;\n",
              "      width: 32px;\n",
              "    }\n",
              "\n",
              "    .colab-df-convert:hover {\n",
              "      background-color: #E2EBFA;\n",
              "      box-shadow: 0px 1px 2px rgba(60, 64, 67, 0.3), 0px 1px 3px 1px rgba(60, 64, 67, 0.15);\n",
              "      fill: #174EA6;\n",
              "    }\n",
              "\n",
              "    .colab-df-buttons div {\n",
              "      margin-bottom: 4px;\n",
              "    }\n",
              "\n",
              "    [theme=dark] .colab-df-convert {\n",
              "      background-color: #3B4455;\n",
              "      fill: #D2E3FC;\n",
              "    }\n",
              "\n",
              "    [theme=dark] .colab-df-convert:hover {\n",
              "      background-color: #434B5C;\n",
              "      box-shadow: 0px 1px 3px 1px rgba(0, 0, 0, 0.15);\n",
              "      filter: drop-shadow(0px 1px 2px rgba(0, 0, 0, 0.3));\n",
              "      fill: #FFFFFF;\n",
              "    }\n",
              "  </style>\n",
              "\n",
              "    <script>\n",
              "      const buttonEl =\n",
              "        document.querySelector('#df-e86e7165-b4b8-4d10-8afd-87fbeff80537 button.colab-df-convert');\n",
              "      buttonEl.style.display =\n",
              "        google.colab.kernel.accessAllowed ? 'block' : 'none';\n",
              "\n",
              "      async function convertToInteractive(key) {\n",
              "        const element = document.querySelector('#df-e86e7165-b4b8-4d10-8afd-87fbeff80537');\n",
              "        const dataTable =\n",
              "          await google.colab.kernel.invokeFunction('convertToInteractive',\n",
              "                                                    [key], {});\n",
              "        if (!dataTable) return;\n",
              "\n",
              "        const docLinkHtml = 'Like what you see? Visit the ' +\n",
              "          '<a target=\"_blank\" href=https://colab.research.google.com/notebooks/data_table.ipynb>data table notebook</a>'\n",
              "          + ' to learn more about interactive tables.';\n",
              "        element.innerHTML = '';\n",
              "        dataTable['output_type'] = 'display_data';\n",
              "        await google.colab.output.renderOutput(dataTable, element);\n",
              "        const docLink = document.createElement('div');\n",
              "        docLink.innerHTML = docLinkHtml;\n",
              "        element.appendChild(docLink);\n",
              "      }\n",
              "    </script>\n",
              "  </div>\n",
              "\n",
              "\n",
              "<div id=\"df-12988a55-0fc6-433f-b6e6-dc98a8a23948\">\n",
              "  <button class=\"colab-df-quickchart\" onclick=\"quickchart('df-12988a55-0fc6-433f-b6e6-dc98a8a23948')\"\n",
              "            title=\"Suggest charts\"\n",
              "            style=\"display:none;\">\n",
              "\n",
              "<svg xmlns=\"http://www.w3.org/2000/svg\" height=\"24px\"viewBox=\"0 0 24 24\"\n",
              "     width=\"24px\">\n",
              "    <g>\n",
              "        <path d=\"M19 3H5c-1.1 0-2 .9-2 2v14c0 1.1.9 2 2 2h14c1.1 0 2-.9 2-2V5c0-1.1-.9-2-2-2zM9 17H7v-7h2v7zm4 0h-2V7h2v10zm4 0h-2v-4h2v4z\"/>\n",
              "    </g>\n",
              "</svg>\n",
              "  </button>\n",
              "\n",
              "<style>\n",
              "  .colab-df-quickchart {\n",
              "      --bg-color: #E8F0FE;\n",
              "      --fill-color: #1967D2;\n",
              "      --hover-bg-color: #E2EBFA;\n",
              "      --hover-fill-color: #174EA6;\n",
              "      --disabled-fill-color: #AAA;\n",
              "      --disabled-bg-color: #DDD;\n",
              "  }\n",
              "\n",
              "  [theme=dark] .colab-df-quickchart {\n",
              "      --bg-color: #3B4455;\n",
              "      --fill-color: #D2E3FC;\n",
              "      --hover-bg-color: #434B5C;\n",
              "      --hover-fill-color: #FFFFFF;\n",
              "      --disabled-bg-color: #3B4455;\n",
              "      --disabled-fill-color: #666;\n",
              "  }\n",
              "\n",
              "  .colab-df-quickchart {\n",
              "    background-color: var(--bg-color);\n",
              "    border: none;\n",
              "    border-radius: 50%;\n",
              "    cursor: pointer;\n",
              "    display: none;\n",
              "    fill: var(--fill-color);\n",
              "    height: 32px;\n",
              "    padding: 0;\n",
              "    width: 32px;\n",
              "  }\n",
              "\n",
              "  .colab-df-quickchart:hover {\n",
              "    background-color: var(--hover-bg-color);\n",
              "    box-shadow: 0 1px 2px rgba(60, 64, 67, 0.3), 0 1px 3px 1px rgba(60, 64, 67, 0.15);\n",
              "    fill: var(--button-hover-fill-color);\n",
              "  }\n",
              "\n",
              "  .colab-df-quickchart-complete:disabled,\n",
              "  .colab-df-quickchart-complete:disabled:hover {\n",
              "    background-color: var(--disabled-bg-color);\n",
              "    fill: var(--disabled-fill-color);\n",
              "    box-shadow: none;\n",
              "  }\n",
              "\n",
              "  .colab-df-spinner {\n",
              "    border: 2px solid var(--fill-color);\n",
              "    border-color: transparent;\n",
              "    border-bottom-color: var(--fill-color);\n",
              "    animation:\n",
              "      spin 1s steps(1) infinite;\n",
              "  }\n",
              "\n",
              "  @keyframes spin {\n",
              "    0% {\n",
              "      border-color: transparent;\n",
              "      border-bottom-color: var(--fill-color);\n",
              "      border-left-color: var(--fill-color);\n",
              "    }\n",
              "    20% {\n",
              "      border-color: transparent;\n",
              "      border-left-color: var(--fill-color);\n",
              "      border-top-color: var(--fill-color);\n",
              "    }\n",
              "    30% {\n",
              "      border-color: transparent;\n",
              "      border-left-color: var(--fill-color);\n",
              "      border-top-color: var(--fill-color);\n",
              "      border-right-color: var(--fill-color);\n",
              "    }\n",
              "    40% {\n",
              "      border-color: transparent;\n",
              "      border-right-color: var(--fill-color);\n",
              "      border-top-color: var(--fill-color);\n",
              "    }\n",
              "    60% {\n",
              "      border-color: transparent;\n",
              "      border-right-color: var(--fill-color);\n",
              "    }\n",
              "    80% {\n",
              "      border-color: transparent;\n",
              "      border-right-color: var(--fill-color);\n",
              "      border-bottom-color: var(--fill-color);\n",
              "    }\n",
              "    90% {\n",
              "      border-color: transparent;\n",
              "      border-bottom-color: var(--fill-color);\n",
              "    }\n",
              "  }\n",
              "</style>\n",
              "\n",
              "  <script>\n",
              "    async function quickchart(key) {\n",
              "      const quickchartButtonEl =\n",
              "        document.querySelector('#' + key + ' button');\n",
              "      quickchartButtonEl.disabled = true;  // To prevent multiple clicks.\n",
              "      quickchartButtonEl.classList.add('colab-df-spinner');\n",
              "      try {\n",
              "        const charts = await google.colab.kernel.invokeFunction(\n",
              "            'suggestCharts', [key], {});\n",
              "      } catch (error) {\n",
              "        console.error('Error during call to suggestCharts:', error);\n",
              "      }\n",
              "      quickchartButtonEl.classList.remove('colab-df-spinner');\n",
              "      quickchartButtonEl.classList.add('colab-df-quickchart-complete');\n",
              "    }\n",
              "    (() => {\n",
              "      let quickchartButtonEl =\n",
              "        document.querySelector('#df-12988a55-0fc6-433f-b6e6-dc98a8a23948 button');\n",
              "      quickchartButtonEl.style.display =\n",
              "        google.colab.kernel.accessAllowed ? 'block' : 'none';\n",
              "    })();\n",
              "  </script>\n",
              "</div>\n",
              "    </div>\n",
              "  </div>\n"
            ],
            "application/vnd.google.colaboratory.intrinsic+json": {
              "type": "dataframe",
              "variable_name": "websites"
            }
          },
          "metadata": {},
          "execution_count": 3
        }
      ],
      "source": [
        "# Your code here\n",
        "websites.head(5)\n"
      ]
    },
    {
      "cell_type": "code",
      "source": [
        "websites.info()"
      ],
      "metadata": {
        "colab": {
          "base_uri": "https://localhost:8080/"
        },
        "id": "e7npuPld2OOk",
        "outputId": "d6cc6e69-33bf-4727-b6a4-fb7579809154"
      },
      "execution_count": 9,
      "outputs": [
        {
          "output_type": "stream",
          "name": "stdout",
          "text": [
            "<class 'pandas.core.frame.DataFrame'>\n",
            "RangeIndex: 1781 entries, 0 to 1780\n",
            "Data columns (total 21 columns):\n",
            " #   Column                     Non-Null Count  Dtype  \n",
            "---  ------                     --------------  -----  \n",
            " 0   URL                        1781 non-null   object \n",
            " 1   URL_LENGTH                 1781 non-null   int64  \n",
            " 2   NUMBER_SPECIAL_CHARACTERS  1781 non-null   int64  \n",
            " 3   CHARSET                    1781 non-null   object \n",
            " 4   SERVER                     1780 non-null   object \n",
            " 5   CONTENT_LENGTH             969 non-null    float64\n",
            " 6   WHOIS_COUNTRY              1781 non-null   object \n",
            " 7   WHOIS_STATEPRO             1781 non-null   object \n",
            " 8   WHOIS_REGDATE              1781 non-null   object \n",
            " 9   WHOIS_UPDATED_DATE         1781 non-null   object \n",
            " 10  TCP_CONVERSATION_EXCHANGE  1781 non-null   int64  \n",
            " 11  DIST_REMOTE_TCP_PORT       1781 non-null   int64  \n",
            " 12  REMOTE_IPS                 1781 non-null   int64  \n",
            " 13  APP_BYTES                  1781 non-null   int64  \n",
            " 14  SOURCE_APP_PACKETS         1781 non-null   int64  \n",
            " 15  REMOTE_APP_PACKETS         1781 non-null   int64  \n",
            " 16  SOURCE_APP_BYTES           1781 non-null   int64  \n",
            " 17  REMOTE_APP_BYTES           1781 non-null   int64  \n",
            " 18  APP_PACKETS                1781 non-null   int64  \n",
            " 19  DNS_QUERY_TIMES            1780 non-null   float64\n",
            " 20  Type                       1781 non-null   int64  \n",
            "dtypes: float64(2), int64(12), object(7)\n",
            "memory usage: 292.3+ KB\n"
          ]
        }
      ]
    },
    {
      "cell_type": "code",
      "source": [
        "website_0 = websites[websites['Type'] == 0]\n",
        "website_1 = websites[websites['Type'] == 1]"
      ],
      "metadata": {
        "id": "9EQm3BqwEGfv"
      },
      "execution_count": 5,
      "outputs": []
    },
    {
      "cell_type": "code",
      "source": [
        "website_0['CONTENT_LENGTH'].mean()"
      ],
      "metadata": {
        "colab": {
          "base_uri": "https://localhost:8080/"
        },
        "id": "eAMkOI-oFIo4",
        "outputId": "b8ccc64a-e5cd-44a4-fcd2-ead0746e6b53"
      },
      "execution_count": 7,
      "outputs": [
        {
          "output_type": "execute_result",
          "data": {
            "text/plain": [
              "12885.064889918887"
            ]
          },
          "metadata": {},
          "execution_count": 7
        }
      ]
    },
    {
      "cell_type": "code",
      "source": [
        "website_1['CONTENT_LENGTH'].mean()"
      ],
      "metadata": {
        "colab": {
          "base_uri": "https://localhost:8080/"
        },
        "id": "xH6-dGJpFrN8",
        "outputId": "5be96b0d-421e-4fbd-bc4c-5e12712692ea"
      },
      "execution_count": 8,
      "outputs": [
        {
          "output_type": "execute_result",
          "data": {
            "text/plain": [
              "2297.943396226415"
            ]
          },
          "metadata": {},
          "execution_count": 8
        }
      ]
    },
    {
      "cell_type": "code",
      "execution_count": null,
      "metadata": {
        "colab": {
          "base_uri": "https://localhost:8080/",
          "height": 90
        },
        "id": "8gfu66tg1i1t",
        "outputId": "a593a0d6-a2e3-4cd9-8ee5-40d8f916c6a0"
      },
      "outputs": [
        {
          "output_type": "execute_result",
          "data": {
            "text/plain": [
              "\"['URL', 'URL_LENGTH', 'NUMBER_SPECIAL_CHARACTERS', 'CHARSET', 'SERVER',\\n       'CONTENT_LENGTH', 'WHOIS_COUNTRY', 'WHOIS_STATEPRO', 'WHOIS_REGDATE',\\n       'WHOIS_UPDATED_DATE', 'TCP_CONVERSATION_EXCHANGE',\\n       'DIST_REMOTE_TCP_PORT', 'REMOTE_IPS', 'APP_BYTES', 'SOURCE_APP_PACKETS',\\n       'REMOTE_APP_PACKETS', 'SOURCE_APP_BYTES', 'REMOTE_APP_BYTES',\\n       'APP_PACKETS', 'DNS_QUERY_TIMES']\""
            ],
            "application/vnd.google.colaboratory.intrinsic+json": {
              "type": "string"
            }
          },
          "metadata": {},
          "execution_count": 11
        }
      ],
      "source": [
        "# Your comment here\n",
        "\n",
        "#Which columns contain the features of the websites?\n",
        "\n",
        "\"\"\"['URL', 'URL_LENGTH', 'NUMBER_SPECIAL_CHARACTERS', 'CHARSET', 'SERVER',\n",
        "       'CONTENT_LENGTH', 'WHOIS_COUNTRY', 'WHOIS_STATEPRO', 'WHOIS_REGDATE',\n",
        "       'WHOIS_UPDATED_DATE', 'TCP_CONVERSATION_EXCHANGE',\n",
        "       'DIST_REMOTE_TCP_PORT', 'REMOTE_IPS', 'APP_BYTES', 'SOURCE_APP_PACKETS',\n",
        "       'REMOTE_APP_PACKETS', 'SOURCE_APP_BYTES', 'REMOTE_APP_BYTES',\n",
        "       'APP_PACKETS', 'DNS_QUERY_TIMES']\"\"\"\n",
        "\n"
      ]
    },
    {
      "cell_type": "code",
      "source": [
        "#Which column contains the feature we will predict? What is the code standing for benign vs malicious websites?\n",
        "\n",
        "#The column \"Type\" contais the feature we want to predict, 0 stands for benign and 1 for malicious."
      ],
      "metadata": {
        "id": "2jffDhh2CljF"
      },
      "execution_count": null,
      "outputs": []
    },
    {
      "cell_type": "markdown",
      "metadata": {
        "id": "yctnXm8N1i1u"
      },
      "source": [
        "#### Next, evaluate if the columns in this dataset are strongly correlated.\n",
        "\n",
        "If our dataset has strongly correlated columns, we need to choose certain ML algorithms instead of others. We need to evaluate this for our dataset now.\n",
        "\n",
        "Luckily, most of the columns in this dataset are ordinal which makes things a lot easier for us. In the next cells below, evaluate the level of collinearity of the data.\n",
        "\n",
        "We provide some general directions for you to consult in order to complete this step:\n",
        "\n",
        "1. You will create a correlation matrix using the numeric columns in the dataset.\n",
        "\n",
        "1. Create a heatmap using `seaborn` to visualize which columns have high collinearity.\n",
        "\n",
        "1. Comment on which columns you might need to remove due to high collinearity."
      ]
    },
    {
      "cell_type": "code",
      "execution_count": 10,
      "metadata": {
        "colab": {
          "base_uri": "https://localhost:8080/",
          "height": 966
        },
        "id": "sYftkysW1i1u",
        "outputId": "62214837-be91-4b17-baa1-180f0ee3da07"
      },
      "outputs": [
        {
          "output_type": "stream",
          "name": "stderr",
          "text": [
            "<ipython-input-10-51c17763bae9>:4: FutureWarning: The default value of numeric_only in DataFrame.corr is deprecated. In a future version, it will default to False. Select only valid columns or specify the value of numeric_only to silence this warning.\n",
            "  correlation_matrix = websites.corr()\n"
          ]
        },
        {
          "output_type": "display_data",
          "data": {
            "text/plain": [
              "<Figure size 1000x800 with 2 Axes>"
            ],
            "image/png": "[encoded data removed]"
          },
          "metadata": {}
        }
      ],
      "source": [
        "# Your code here\n",
        "\n",
        "# Step 1: Create a correlation matrix\n",
        "correlation_matrix = websites.corr()\n",
        "\n",
        "# Step 2: Create a heatmap\n",
        "plt.figure(figsize=(10, 8))\n",
        "sns.heatmap(correlation_matrix, annot=True, cmap='coolwarm', fmt=\".2f\")\n",
        "plt.title('Correlation Heatmap')\n",
        "plt.show()\n"
      ]
    },
    {
      "cell_type": "code",
      "execution_count": null,
      "metadata": {
        "id": "LuUcmAnk1i1u"
      },
      "outputs": [],
      "source": [
        "# Your comment here\n",
        "\n",
        "#Comment on which columns you might need to remove due to high collinearity.\n",
        "\n",
        "#The follwogin columns have high collinearity TCP_CONVERSATION_EXCHANGE, SOURCE_APP_PACKETS, REMOTE_APP_PACKETS, APP_BYTES"
      ]
    },
    {
      "cell_type": "markdown",
      "metadata": {
        "id": "R8BrjEnf1i1v"
      },
      "source": [
        "# Challenge 2 - Remove Column Collinearity.\n",
        "\n",
        "From the heatmap you created, you should have seen at least 3 columns that can be removed due to high collinearity. Remove these columns from the dataset.\n",
        "\n",
        "Note that you should remove as few columns as you can. You don't have to remove all the columns at once. But instead, try removing one column, then produce the heatmap again to determine if additional columns should be removed. As long as the dataset no longer contains columns that are correlated for over 90%, you can stop. Also, keep in mind when two columns have high collinearity, you only need to remove one of them but not both.\n",
        "\n",
        "In the cells below, remove as few columns as you can to eliminate the high collinearity in the dataset. Make sure to comment on your way so that the instructional team can learn about your thinking process which allows them to give feedback. At the end, print the heatmap again."
      ]
    },
    {
      "cell_type": "code",
      "execution_count": 11,
      "metadata": {
        "id": "7mj315kN1i1v"
      },
      "outputs": [],
      "source": [
        "# Your code here\n",
        "\n",
        "websites.drop(columns=['TCP_CONVERSATION_EXCHANGE'], inplace=True)\n"
      ]
    },
    {
      "cell_type": "code",
      "source": [
        "websites.drop(columns=['SOURCE_APP_PACKETS'], inplace=True)"
      ],
      "metadata": {
        "id": "RBNlfnJxQ5rV"
      },
      "execution_count": 12,
      "outputs": []
    },
    {
      "cell_type": "code",
      "source": [
        "websites.drop(columns=['REMOTE_APP_PACKETS'], inplace=True)"
      ],
      "metadata": {
        "id": "AppEC9trR3Qa"
      },
      "execution_count": 13,
      "outputs": []
    },
    {
      "cell_type": "code",
      "source": [
        "websites.drop(columns=['APP_BYTES'], inplace=True)"
      ],
      "metadata": {
        "id": "hjjecb1JSHge"
      },
      "execution_count": 14,
      "outputs": []
    },
    {
      "cell_type": "code",
      "execution_count": null,
      "metadata": {
        "id": "jl6hBClT1i1w"
      },
      "outputs": [],
      "source": [
        "# Your comment here\n",
        "\n"
      ]
    },
    {
      "cell_type": "code",
      "execution_count": 15,
      "metadata": {
        "colab": {
          "base_uri": "https://localhost:8080/",
          "height": 964
        },
        "id": "0IFCcS5l1i1w",
        "outputId": "dc9d3fdb-e75c-4d0b-aec7-035b511e21fe"
      },
      "outputs": [
        {
          "output_type": "stream",
          "name": "stderr",
          "text": [
            "<ipython-input-15-072224908ca0>:4: FutureWarning: The default value of numeric_only in DataFrame.corr is deprecated. In a future version, it will default to False. Select only valid columns or specify the value of numeric_only to silence this warning.\n",
            "  correlation_matrix = websites.corr()\n"
          ]
        },
        {
          "output_type": "display_data",
          "data": {
            "text/plain": [
              "<Figure size 1000x800 with 2 Axes>"
            ],
            "image/png": "[encoded data removed]"
          },
          "metadata": {}
        }
      ],
      "source": [
        "# Print heatmap again\n",
        "\n",
        "# Step 1: Create a correlation matrix\n",
        "correlation_matrix = websites.corr()\n",
        "\n",
        "# Step 2: Create a heatmap\n",
        "plt.figure(figsize=(10, 8))\n",
        "sns.heatmap(correlation_matrix, annot=True, cmap='coolwarm', fmt=\".2f\")\n",
        "plt.title('Correlation Heatmap')\n",
        "plt.show()\n"
      ]
    },
    {
      "cell_type": "markdown",
      "metadata": {
        "id": "o4juutnn1i1x"
      },
      "source": [
        "# Challenge 3 - Handle Missing Values\n",
        "\n",
        "The next step would be handling missing values. **We start by examining the number of missing values in each column, which you will do in the next cell.**"
      ]
    },
    {
      "cell_type": "code",
      "execution_count": 16,
      "metadata": {
        "colab": {
          "base_uri": "https://localhost:8080/"
        },
        "id": "-rLcnFf01i1x",
        "outputId": "10966743-eed3-49ee-ae15-63ca43db9808"
      },
      "outputs": [
        {
          "output_type": "execute_result",
          "data": {
            "text/plain": [
              "URL                            0\n",
              "URL_LENGTH                     0\n",
              "NUMBER_SPECIAL_CHARACTERS      0\n",
              "CHARSET                        0\n",
              "SERVER                         1\n",
              "CONTENT_LENGTH               812\n",
              "WHOIS_COUNTRY                  0\n",
              "WHOIS_STATEPRO                 0\n",
              "WHOIS_REGDATE                  0\n",
              "WHOIS_UPDATED_DATE             0\n",
              "DIST_REMOTE_TCP_PORT           0\n",
              "REMOTE_IPS                     0\n",
              "SOURCE_APP_BYTES               0\n",
              "REMOTE_APP_BYTES               0\n",
              "APP_PACKETS                    0\n",
              "DNS_QUERY_TIMES                1\n",
              "Type                           0\n",
              "dtype: int64"
            ]
          },
          "metadata": {},
          "execution_count": 16
        }
      ],
      "source": [
        "# Your code here\n",
        "\n",
        "websites.isna().sum()"
      ]
    },
    {
      "cell_type": "markdown",
      "metadata": {
        "id": "ZLl1JMzV1i1x"
      },
      "source": [
        "If you remember in the previous labs, we drop a column if the column contains a high proportion of missing values. After dropping those problematic columns, we drop the rows with missing values.\n",
        "\n",
        "#### In the cells below, handle the missing values from the dataset. Remember to comment the rationale of your decisions."
      ]
    },
    {
      "cell_type": "code",
      "execution_count": 17,
      "metadata": {
        "colab": {
          "base_uri": "https://localhost:8080/"
        },
        "id": "ku9r3hpZ1i1x",
        "outputId": "679094b6-a27d-4eed-a986-03a2433cdd3d"
      },
      "outputs": [
        {
          "output_type": "execute_result",
          "data": {
            "text/plain": [
              "45.59236384053902"
            ]
          },
          "metadata": {},
          "execution_count": 17
        }
      ],
      "source": [
        "# Your code here\n",
        "\n",
        "ratio = (websites['CONTENT_LENGTH'].isna().sum() / len(websites)) *100\n",
        "\n",
        "ratio\n"
      ]
    },
    {
      "cell_type": "code",
      "execution_count": 18,
      "metadata": {
        "id": "vnRD6x6f1i1x"
      },
      "outputs": [],
      "source": [
        "# Your comment here\n",
        "\n",
        "#Since the column 'CONTENT_LENGTH' has almost 50% of missing values, we decide to drop this column\n",
        "\n",
        "websites.drop(columns = 'CONTENT_LENGTH', inplace=True)"
      ]
    },
    {
      "cell_type": "code",
      "source": [
        "websites.dropna(inplace=True)"
      ],
      "metadata": {
        "id": "jUMWB8wZab1b"
      },
      "execution_count": 19,
      "outputs": []
    },
    {
      "cell_type": "markdown",
      "metadata": {
        "id": "cJzbvhtg1i1x"
      },
      "source": [
        "#### Again, examine the number of missing values in each column.\n",
        "\n",
        "If all cleaned, proceed. Otherwise, go back and do more cleaning."
      ]
    },
    {
      "cell_type": "code",
      "execution_count": 20,
      "metadata": {
        "colab": {
          "base_uri": "https://localhost:8080/"
        },
        "id": "ygIFwGEW1i1y",
        "outputId": "69404c20-0bae-4b5b-c0ea-a926e043323a"
      },
      "outputs": [
        {
          "output_type": "execute_result",
          "data": {
            "text/plain": [
              "URL                          0\n",
              "URL_LENGTH                   0\n",
              "NUMBER_SPECIAL_CHARACTERS    0\n",
              "CHARSET                      0\n",
              "SERVER                       0\n",
              "WHOIS_COUNTRY                0\n",
              "WHOIS_STATEPRO               0\n",
              "WHOIS_REGDATE                0\n",
              "WHOIS_UPDATED_DATE           0\n",
              "DIST_REMOTE_TCP_PORT         0\n",
              "REMOTE_IPS                   0\n",
              "SOURCE_APP_BYTES             0\n",
              "REMOTE_APP_BYTES             0\n",
              "APP_PACKETS                  0\n",
              "DNS_QUERY_TIMES              0\n",
              "Type                         0\n",
              "dtype: int64"
            ]
          },
          "metadata": {},
          "execution_count": 20
        }
      ],
      "source": [
        "# Examine missing values in each column\n",
        "\n",
        "websites.isna().sum()"
      ]
    },
    {
      "cell_type": "markdown",
      "metadata": {
        "id": "JwQIBUKR1i1y"
      },
      "source": [
        "# Challenge 4 - Handle `WHOIS_*` Categorical Data"
      ]
    },
    {
      "cell_type": "markdown",
      "metadata": {
        "id": "M0W-u6bc1i1y"
      },
      "source": [
        "There are several categorical columns we need to handle. These columns are:\n",
        "\n",
        "* `URL`\n",
        "* `CHARSET`\n",
        "* `SERVER`\n",
        "* `WHOIS_COUNTRY`\n",
        "* `WHOIS_STATEPRO`\n",
        "* `WHOIS_REGDATE`\n",
        "* `WHOIS_UPDATED_DATE`\n",
        "\n",
        "How to handle string columns is always case by case. Let's start by working on `WHOIS_COUNTRY`. Your steps are:\n",
        "\n",
        "1. List out the unique values of `WHOIS_COUNTRY`.\n",
        "1. Consolidate the country values with consistent country codes. For example, the following values refer to the same country and should use consistent country code:\n",
        "    * `CY` and `Cyprus`\n",
        "    * `US` and `us`\n",
        "    * `SE` and `se`\n",
        "    * `GB`, `United Kingdom`, and `[u'GB'; u'UK']`\n",
        "\n",
        "#### In the cells below, fix the country values as intructed above."
      ]
    },
    {
      "cell_type": "code",
      "execution_count": 21,
      "metadata": {
        "colab": {
          "base_uri": "https://localhost:8080/"
        },
        "id": "ASwdhTLx1i1y",
        "outputId": "114f89ef-7b81-4b72-b076-f17626a56e72"
      },
      "outputs": [
        {
          "output_type": "execute_result",
          "data": {
            "text/plain": [
              "array(['None', 'US', 'SC', 'GB', 'UK', 'RU', 'AU', 'CA', 'PA', 'se', 'IN',\n",
              "       'LU', 'TH', \"[u'GB'; u'UK']\", 'FR', 'NL', 'UG', 'JP', 'CN', 'SE',\n",
              "       'SI', 'IL', 'ru', 'KY', 'AT', 'CZ', 'PH', 'BE', 'NO', 'TR', 'LV',\n",
              "       'DE', 'ES', 'BR', 'us', 'KR', 'HK', 'UA', 'CH', 'United Kingdom',\n",
              "       'BS', 'PK', 'IT', 'Cyprus', 'BY', 'AE', 'IE', 'UY', 'KG'],\n",
              "      dtype=object)"
            ]
          },
          "metadata": {},
          "execution_count": 21
        }
      ],
      "source": [
        "# Your code here\n",
        "\n",
        "websites['WHOIS_COUNTRY'].unique()\n"
      ]
    },
    {
      "cell_type": "code",
      "source": [
        "# Define a mapping for consistent country codes\n",
        "country_mapping = {\n",
        "    'Cyprus': 'CY',\n",
        "    'us': 'US',\n",
        "    'se': 'SE',\n",
        "    'United Kingdom': 'GB',\n",
        "    '[u\\'GB\\'; u\\'UK\\']': 'GB'\n",
        "}\n",
        "\n",
        "# Apply the mapping to the WHOIS_COUNTRY column\n",
        "websites['WHOIS_COUNTRY'] = websites['WHOIS_COUNTRY'].replace(country_mapping)\n",
        "\n"
      ],
      "metadata": {
        "id": "FsdLY7TsblwL"
      },
      "execution_count": 22,
      "outputs": []
    },
    {
      "cell_type": "markdown",
      "metadata": {
        "id": "pugh_QFf1i1y"
      },
      "source": [
        "Since we have fixed the country values, can we convert this column to ordinal now?\n",
        "\n",
        "Not yet. If you reflect on the previous labs how we handle categorical columns, you probably remember we ended up dropping a lot of those columns because there are too many unique values. Too many unique values in a column is not desirable in machine learning because it makes prediction inaccurate. But there are workarounds under certain conditions. One of the fixable conditions is:\n",
        "\n",
        "#### If a limited number of values account for the majority of data, we can retain these top values and re-label all other rare values.\n",
        "\n",
        "The `WHOIS_COUNTRY` column happens to be this case. You can verify it by print a bar chart of the `value_counts` in the next cell to verify:"
      ]
    },
    {
      "cell_type": "code",
      "execution_count": 23,
      "metadata": {
        "colab": {
          "base_uri": "https://localhost:8080/"
        },
        "id": "n7RLEeZu1i1y",
        "outputId": "7ea15f3f-b838-44fc-fb73-280513668b89"
      },
      "outputs": [
        {
          "output_type": "execute_result",
          "data": {
            "text/plain": [
              "US      1105\n",
              "None     306\n",
              "CA        83\n",
              "ES        63\n",
              "AU        35\n",
              "GB        25\n",
              "PA        21\n",
              "JP        11\n",
              "IN        10\n",
              "UK        10\n",
              "CN        10\n",
              "CZ         9\n",
              "FR         9\n",
              "CH         6\n",
              "NL         6\n",
              "KR         5\n",
              "PH         4\n",
              "ru         4\n",
              "BS         4\n",
              "AT         4\n",
              "SE         4\n",
              "KY         3\n",
              "SC         3\n",
              "BE         3\n",
              "TR         3\n",
              "DE         3\n",
              "HK         3\n",
              "UY         2\n",
              "CY         2\n",
              "RU         2\n",
              "UA         2\n",
              "IL         2\n",
              "BR         2\n",
              "NO         2\n",
              "SI         2\n",
              "KG         2\n",
              "LU         1\n",
              "LV         1\n",
              "TH         1\n",
              "PK         1\n",
              "IT         1\n",
              "UG         1\n",
              "BY         1\n",
              "AE         1\n",
              "IE         1\n",
              "Name: WHOIS_COUNTRY, dtype: int64"
            ]
          },
          "metadata": {},
          "execution_count": 23
        }
      ],
      "source": [
        "# Your code here\n",
        "\n",
        "websites['WHOIS_COUNTRY'].value_counts()"
      ]
    },
    {
      "cell_type": "markdown",
      "metadata": {
        "id": "54FdrTAa1i1y"
      },
      "source": [
        "#### After verifying, now let's keep the top 10 values of the column and re-label other columns with `OTHER`."
      ]
    },
    {
      "cell_type": "code",
      "execution_count": 24,
      "metadata": {
        "scrolled": true,
        "colab": {
          "base_uri": "https://localhost:8080/"
        },
        "id": "xI-MRmgf1i1z",
        "outputId": "6113cf8d-d2c7-41d3-bf26-02706f123a54"
      },
      "outputs": [
        {
          "output_type": "stream",
          "name": "stdout",
          "text": [
            "US       1105\n",
            "None      306\n",
            "OTHER     110\n",
            "CA         83\n",
            "ES         63\n",
            "AU         35\n",
            "GB         25\n",
            "PA         21\n",
            "JP         11\n",
            "UK         10\n",
            "IN         10\n",
            "Name: WHOIS_COUNTRY, dtype: int64\n"
          ]
        }
      ],
      "source": [
        "# Your code here\n",
        "\n",
        "# Step 1: Determine the top 10 values of the \"WHOIS_COUNTRY\" column\n",
        "top_countries = websites['WHOIS_COUNTRY'].value_counts().head(10).index.tolist()\n",
        "\n",
        "# Step 2: Re-label other values as \"OTHER\"\n",
        "websites['WHOIS_COUNTRY'] = websites['WHOIS_COUNTRY'].apply(lambda x: x if x in top_countries else 'OTHER')\n",
        "\n",
        "# Verify the changes\n",
        "print(websites['WHOIS_COUNTRY'].value_counts())\n",
        "\n"
      ]
    },
    {
      "cell_type": "markdown",
      "metadata": {
        "id": "1Anb4JBI1i1z"
      },
      "source": [
        "Now since `WHOIS_COUNTRY` has been re-labelled, we don't need `WHOIS_STATEPRO` any more because the values of the states or provinces may not be relevant any more. We'll drop this column.\n",
        "\n",
        "In addition, we will also drop `WHOIS_REGDATE` and `WHOIS_UPDATED_DATE`. These are the registration and update dates of the website domains. Not of our concerns.\n",
        "\n",
        "#### In the next cell, drop `['WHOIS_STATEPRO', 'WHOIS_REGDATE', 'WHOIS_UPDATED_DATE']`."
      ]
    },
    {
      "cell_type": "code",
      "execution_count": 25,
      "metadata": {
        "id": "VrUbaiX61i1z"
      },
      "outputs": [],
      "source": [
        "# Your code here\n",
        "\n",
        "websites.drop(columns = ['WHOIS_STATEPRO', 'WHOIS_REGDATE', 'WHOIS_UPDATED_DATE'], inplace=True)\n"
      ]
    },
    {
      "cell_type": "markdown",
      "metadata": {
        "id": "-QxNRFVj1i1z"
      },
      "source": [
        "# Challenge 5 - Handle Remaining Categorical Data & Convert to Ordinal\n",
        "\n",
        "Now print the `dtypes` of the data again. Besides `WHOIS_COUNTRY` which we already fixed, there should be 3 categorical columns left: `URL`, `CHARSET`, and `SERVER`."
      ]
    },
    {
      "cell_type": "code",
      "execution_count": 26,
      "metadata": {
        "colab": {
          "base_uri": "https://localhost:8080/"
        },
        "id": "fQhWFGmi1i1z",
        "outputId": "24604cd9-3110-42d3-facb-cae021095083"
      },
      "outputs": [
        {
          "output_type": "stream",
          "name": "stdout",
          "text": [
            "<class 'pandas.core.frame.DataFrame'>\n",
            "Int64Index: 1779 entries, 0 to 1780\n",
            "Data columns (total 13 columns):\n",
            " #   Column                     Non-Null Count  Dtype  \n",
            "---  ------                     --------------  -----  \n",
            " 0   URL                        1779 non-null   object \n",
            " 1   URL_LENGTH                 1779 non-null   int64  \n",
            " 2   NUMBER_SPECIAL_CHARACTERS  1779 non-null   int64  \n",
            " 3   CHARSET                    1779 non-null   object \n",
            " 4   SERVER                     1779 non-null   object \n",
            " 5   WHOIS_COUNTRY              1779 non-null   object \n",
            " 6   DIST_REMOTE_TCP_PORT       1779 non-null   int64  \n",
            " 7   REMOTE_IPS                 1779 non-null   int64  \n",
            " 8   SOURCE_APP_BYTES           1779 non-null   int64  \n",
            " 9   REMOTE_APP_BYTES           1779 non-null   int64  \n",
            " 10  APP_PACKETS                1779 non-null   int64  \n",
            " 11  DNS_QUERY_TIMES            1779 non-null   float64\n",
            " 12  Type                       1779 non-null   int64  \n",
            "dtypes: float64(1), int64(8), object(4)\n",
            "memory usage: 194.6+ KB\n"
          ]
        }
      ],
      "source": [
        "# Your code here\n",
        "\n",
        "websites.info()\n"
      ]
    },
    {
      "cell_type": "markdown",
      "metadata": {
        "id": "zPLtFyaM1i1z"
      },
      "source": [
        "#### `URL` is easy. We'll simply drop it because it has too many unique values that there's no way for us to consolidate."
      ]
    },
    {
      "cell_type": "code",
      "execution_count": 27,
      "metadata": {
        "id": "A9gL5Kqw1i10"
      },
      "outputs": [],
      "source": [
        "# Your code here\n",
        "\n",
        "websites.drop(columns = ['URL'], inplace= True)\n"
      ]
    },
    {
      "cell_type": "markdown",
      "metadata": {
        "id": "sCecOi5x1i10"
      },
      "source": [
        "#### Print the unique value counts of `CHARSET`. You see there are only a few unique values. So we can keep it as it is."
      ]
    },
    {
      "cell_type": "code",
      "execution_count": 28,
      "metadata": {
        "colab": {
          "base_uri": "https://localhost:8080/"
        },
        "id": "v2lxGvSC1i10",
        "outputId": "33c1c5e8-3829-4b1b-f0ce-0d0bdd187f86"
      },
      "outputs": [
        {
          "output_type": "execute_result",
          "data": {
            "text/plain": [
              "array(['iso-8859-1', 'UTF-8', 'us-ascii', 'ISO-8859-1', 'utf-8', 'None',\n",
              "       'windows-1251', 'ISO-8859', 'windows-1252'], dtype=object)"
            ]
          },
          "metadata": {},
          "execution_count": 28
        }
      ],
      "source": [
        "# Your code here\n",
        "\n",
        "websites['CHARSET'].unique()"
      ]
    },
    {
      "cell_type": "code",
      "source": [
        "# Define a mapping for consistent country codes\n",
        "Char_mapping = {\n",
        "    'utf-8': 'UTF-8',\n",
        "    'iso-8859-1': 'ISO-8859-1',\n",
        "}\n",
        "\n",
        "# Apply the mapping to the WHOIS_COUNTRY column\n",
        "websites['CHARSET'] = websites['CHARSET'].replace(Char_mapping)"
      ],
      "metadata": {
        "id": "4OPPfqs_LObw"
      },
      "execution_count": 29,
      "outputs": []
    },
    {
      "cell_type": "markdown",
      "metadata": {
        "id": "c2xo3vti1i10"
      },
      "source": [
        "`SERVER` is a little more complicated. Print its unique values and think about how you can consolidate those values.\n",
        "\n",
        "#### Before you think of your own solution, don't read the instructions that come next."
      ]
    },
    {
      "cell_type": "code",
      "execution_count": 30,
      "metadata": {
        "colab": {
          "base_uri": "https://localhost:8080/"
        },
        "id": "IpQ_tCVD1i10",
        "outputId": "d2618f1f-f50e-4dad-c63d-c437d7e14f1d"
      },
      "outputs": [
        {
          "output_type": "execute_result",
          "data": {
            "text/plain": [
              "array(['nginx', 'Apache/2.4.10', 'Microsoft-HTTPAPI/2.0', 'None',\n",
              "       'Apache/2', 'nginx/1.10.1', 'Apache', 'Apache/2.2.15 (Red Hat)',\n",
              "       'Apache/2.4.23 (Unix) OpenSSL/1.0.1e-fips mod_bwlimited/1.4',\n",
              "       'openresty/1.11.2.1', 'Apache/2.2.22', 'Apache/2.4.7 (Ubuntu)',\n",
              "       'nginx/1.12.0',\n",
              "       'Apache/2.4.12 (Unix) OpenSSL/1.0.1e-fips mod_bwlimited/1.4',\n",
              "       'Oracle-iPlanet-Web-Server/7.0', 'cloudflare-nginx', 'nginx/1.6.2',\n",
              "       'openresty', 'Heptu web server', 'Pepyaka/1.11.3', 'nginx/1.8.0',\n",
              "       'nginx/1.10.1 + Phusion Passenger 5.0.30',\n",
              "       'Apache/2.2.29 (Amazon)', 'Microsoft-IIS/7.5', 'LiteSpeed',\n",
              "       'Apache/2.4.25 (cPanel) OpenSSL/1.0.1e-fips mod_bwlimited/1.4',\n",
              "       'tsa_c', 'Apache/2.2.0 (Fedora)', 'Apache/2.2.22 (Debian)',\n",
              "       'Apache/2.2.15 (CentOS)', 'Apache/2.4.25',\n",
              "       'Apache/2.4.25 (Amazon) PHP/7.0.14', 'GSE',\n",
              "       'Apache/2.4.23 (Unix) OpenSSL/0.9.8e-fips-rhel5 mod_bwlimited/1.4',\n",
              "       'Apache/2.4.25 (Amazon) OpenSSL/1.0.1k-fips',\n",
              "       'Apache/2.2.22 (Ubuntu)', 'Tengine',\n",
              "       'Apache/2.4.18 (Unix) OpenSSL/0.9.8e-fips-rhel5 mod_bwlimited/1.4',\n",
              "       'Apache/2.4.10 (Debian)', 'Apache/2.4.6 (CentOS) PHP/5.6.8',\n",
              "       'Sun-ONE-Web-Server/6.1',\n",
              "       'Apache/2.4.18 (Unix) OpenSSL/1.0.2e Communique/4.1.10',\n",
              "       'AmazonS3',\n",
              "       'Apache/1.3.37 (Unix) mod_perl/1.29 mod_ssl/2.8.28 OpenSSL/0.9.7e-p1',\n",
              "       'ATS', 'Apache/2.2.27 (CentOS)',\n",
              "       'Apache/2.2.29 (Unix) mod_ssl/2.2.29 OpenSSL/1.0.1e-fips DAV/2 mod_bwlimited/1.4',\n",
              "       'CherryPy/3.6.0', 'Server', 'KHL',\n",
              "       'Apache/2.4.6 (CentOS) OpenSSL/1.0.1e-fips mod_fcgid/2.3.9 PHP/5.4.16 mod_jk/1.2.40',\n",
              "       'Apache/2.2.3 (CentOS)', 'Apache/2.4',\n",
              "       'Apache/1.3.27 (Unix)  (Red-Hat/Linux) mod_perl/1.26 PHP/4.3.3 FrontPage/5.0.2 mod_ssl/2.8.12 OpenSSL/0.9.6b',\n",
              "       'mw2114.codfw.wmnet',\n",
              "       'Apache/2.2.31 (Unix) mod_ssl/2.2.31 OpenSSL/1.0.1e-fips mod_bwlimited/1.4 mod_perl/2.0.8 Perl/v5.10.1',\n",
              "       'Apache/1.3.34 (Unix) PHP/4.4.4', 'Apache/2.2.31 (Amazon)',\n",
              "       'Jetty(9.0.z-SNAPSHOT)', 'Apache/2.2.31 (CentOS)',\n",
              "       'Apache/2.4.12 (Ubuntu)', 'HTTPDaemon',\n",
              "       'Apache/2.2.29 (Unix) mod_ssl/2.2.29 OpenSSL/1.0.1e-fips mod_bwlimited/1.4',\n",
              "       'MediaFire', 'DOSarrest', 'mw2232.codfw.wmnet',\n",
              "       'Sucuri/Cloudproxy', 'Apache/2.4.23 (Unix)', 'nginx/0.7.65',\n",
              "       'mw2260.codfw.wmnet', 'Apache/2.2.32', 'mw2239.codfw.wmnet',\n",
              "       'DPS/1.1.8', 'Apache/2.0.52 (Red Hat)',\n",
              "       'Apache/2.2.25 (Unix) mod_ssl/2.2.25 OpenSSL/0.9.8e-fips-rhel5 mod_bwlimited/1.4',\n",
              "       'Apache/1.3.31 (Unix) PHP/4.3.9 mod_perl/1.29 rus/PL30.20',\n",
              "       'Apache/2.2.13 (Unix) mod_ssl/2.2.13 OpenSSL/0.9.8e-fips-rhel5 mod_auth_passthrough/2.1 mod_bwlimited/1.4 PHP/5.2.10',\n",
              "       'nginx/1.1.19', 'ATS/5.3.0', 'Apache/2.2.3 (Red Hat)',\n",
              "       'nginx/1.4.3',\n",
              "       'Apache/2.2.29 (Unix) mod_ssl/2.2.29 OpenSSL/1.0.1e-fips mod_bwlimited/1.4 PHP/5.4.35',\n",
              "       'Apache/2.2.14 (FreeBSD) mod_ssl/2.2.14 OpenSSL/0.9.8y DAV/2 PHP/5.2.12 with Suhosin-Patch',\n",
              "       'Apache/2.2.14 (Unix) mod_ssl/2.2.14 OpenSSL/0.9.8e-fips-rhel5',\n",
              "       'Apache/1.3.39 (Unix) PHP/5.2.5 mod_auth_passthrough/1.8 mod_bwlimited/1.4 mod_log_bytes/1.2 mod_gzip/1.3.26.1a FrontPage/5.0.2.2635 DAV/1.0.3 mod_ssl/2.8.30 OpenSSL/0.9.7a',\n",
              "       'SSWS', 'Microsoft-IIS/8.0', 'Apache/2.4.18 (Ubuntu)',\n",
              "       'Apache/2.4.6 (CentOS) OpenSSL/1.0.1e-fips PHP/5.4.16 mod_apreq2-20090110/2.8.0 mod_perl/2.0.10 Perl/v5.24.1',\n",
              "       'Apache/2.2.20 (Unix)', 'YouTubeFrontEnd', 'nginx/1.11.3',\n",
              "       'nginx/1.11.2', 'nginx/1.10.0 (Ubuntu)', 'nginx/1.8.1',\n",
              "       'nginx/1.11.10', 'Squeegit/1.2.5 (3_sir)',\n",
              "       'Virtuoso/07.20.3217 (Linux) i686-generic-linux-glibc212-64  VDB',\n",
              "       'Apache-Coyote/1.1', 'Yippee-Ki-Yay', 'mw2165.codfw.wmnet',\n",
              "       'mw2192.codfw.wmnet', 'Apache/2.2.23 (Amazon)',\n",
              "       'nginx/1.4.6 (Ubuntu)', 'nginx + Phusion Passenger',\n",
              "       'Proxy Pandeiro UOL', 'mw2231.codfw.wmnet', 'openresty/1.11.2.2',\n",
              "       'mw2109.codfw.wmnet', 'nginx/0.8.54', 'Apache/2.4.6',\n",
              "       'mw2225.codfw.wmnet', 'Apache/1.3.27 (Unix) PHP/4.4.1',\n",
              "       'mw2236.codfw.wmnet', 'mw2101.codfw.wmnet', 'Varnish',\n",
              "       'Resin/3.1.8', 'mw2164.codfw.wmnet', 'Microsoft-IIS/8.5',\n",
              "       'mw2242.codfw.wmnet',\n",
              "       'Apache/2.4.6 (CentOS) OpenSSL/1.0.1e-fips PHP/5.5.38',\n",
              "       'mw2175.codfw.wmnet', 'mw2107.codfw.wmnet', 'mw2190.codfw.wmnet',\n",
              "       'Apache/2.4.6 (CentOS)', 'nginx/1.13.0', 'barista/5.1.3',\n",
              "       'mw2103.codfw.wmnet', 'Apache/2.4.25 (Debian)', 'ECD (fll/0790)',\n",
              "       'Pagely Gateway/1.5.1', 'nginx/1.10.3',\n",
              "       'Apache/2.4.25 (FreeBSD) OpenSSL/1.0.1s-freebsd PHP/5.6.30',\n",
              "       'mw2097.codfw.wmnet', 'mw2233.codfw.wmnet', 'fbs',\n",
              "       'mw2199.codfw.wmnet', 'mw2255.codfw.wmnet', 'mw2228.codfw.wmnet',\n",
              "       'Apache/2.2.31 (Unix) mod_ssl/2.2.31 OpenSSL/1.0.1e-fips mod_bwlimited/1.4 mod_fcgid/2.3.9',\n",
              "       'gunicorn/19.7.1',\n",
              "       'Apache/2.2.31 (Unix) mod_ssl/2.2.31 OpenSSL/0.9.8e-fips-rhel5 mod_bwlimited/1.4',\n",
              "       'Apache/2.4.6 (CentOS) OpenSSL/1.0.1e-fips PHP/5.4.16',\n",
              "       'mw2241.codfw.wmnet',\n",
              "       'Apache/1.3.33 (Unix) mod_ssl/2.8.24 OpenSSL/0.9.7e-p1 PHP/4.4.8',\n",
              "       'lighttpd', 'mw2230.codfw.wmnet',\n",
              "       'Apache/2.4.6 (CentOS) OpenSSL/1.0.1e-fips', 'AkamaiGHost',\n",
              "       'mw2240.codfw.wmnet', 'nginx/1.10.2', 'PWS/8.2.0.7', 'nginx/1.2.1',\n",
              "       'nxfps',\n",
              "       'Apache/2.2.16 (Unix) mod_ssl/2.2.16 OpenSSL/0.9.8e-fips-rhel5 mod_auth_passthrough/2.1 mod_bwlimited/1.4',\n",
              "       'Play', 'mw2185.codfw.wmnet',\n",
              "       'Apache/2.4.10 (Unix) OpenSSL/1.0.1k',\n",
              "       'Apache/Not telling (Unix) AuthTDS/1.1',\n",
              "       'Apache/2.2.11 (Unix) PHP/5.2.6', 'Scratch Web Server',\n",
              "       'marrakesh 1.12.2', 'nginx/0.8.35', 'mw2182.codfw.wmnet',\n",
              "       'squid/3.3.8', 'nginx/1.10.0', 'Nginx (OpenBSD)',\n",
              "       'Zope/(2.13.16; python 2.6.8; linux2) ZServer/1.1',\n",
              "       'Apache/2.2.26 (Unix) mod_ssl/2.2.26 OpenSSL/0.9.8e-fips-rhel5 mod_bwlimited/1.4 PHP/5.4.26',\n",
              "       'Apache/2.2.21 (Unix) mod_ssl/2.2.21 OpenSSL/0.9.8e-fips-rhel5 PHP/5.3.10',\n",
              "       'Apache/2.2.27 (Unix) OpenAM Web Agent/4.0.1-1 mod_ssl/2.2.27 OpenSSL/1.0.1p PHP/5.3.28',\n",
              "       'mw2104.codfw.wmnet', '.V01 Apache', 'mw2110.codfw.wmnet',\n",
              "       'Apache/2.4.6 (Unix) mod_jk/1.2.37 PHP/5.5.1 OpenSSL/1.0.1g mod_fcgid/2.3.9',\n",
              "       'mw2176.codfw.wmnet', 'mw2187.codfw.wmnet', 'mw2106.codfw.wmnet',\n",
              "       'Microsoft-IIS/7.0',\n",
              "       'Apache/1.3.42 Ben-SSL/1.60 (Unix) mod_gzip/1.3.26.1a mod_fastcgi/2.4.6 mod_throttle/3.1.2 Chili!Soft-ASP/3.6.2 FrontPage/5.0.2.2635 mod_perl/1.31 PHP/4.4.9',\n",
              "       'Aeria Games & Entertainment', 'nginx/1.6.3 + Phusion Passenger',\n",
              "       'Apache/2.4.10 (Debian) PHP/5.6.30-0+deb8u1 mod_perl/2.0.9dev Perl/v5.20.2',\n",
              "       'mw2173.codfw.wmnet',\n",
              "       'Apache/2.4.6 (Red Hat Enterprise Linux) OpenSSL/1.0.1e-fips mod_fcgid/2.3.9 Communique/4.2.0',\n",
              "       'Apache/2.2.15 (CentOS) DAV/2 mod_ssl/2.2.15 OpenSSL/1.0.1e-fips PHP/5.3.3',\n",
              "       'Apache/2.4.6 (CentOS) OpenSSL/1.0.1e-fips PHP/7.0.14',\n",
              "       'mw2198.codfw.wmnet', 'mw2172.codfw.wmnet', 'nginx/1.2.6',\n",
              "       'Apache/2.4.6 (Unix) mod_jk/1.2.37',\n",
              "       'Apache/2.4.25 (Unix) OpenSSL/1.0.1e-fips mod_bwlimited/1.4',\n",
              "       'nginx/1.4.4', 'Cowboy', 'mw2113.codfw.wmnet',\n",
              "       'Apache/2.2.14 (Unix) mod_ssl/2.2.14 OpenSSL/0.9.8a',\n",
              "       'Apache/2.4.10 (Ubuntu)', 'mw2224.codfw.wmnet',\n",
              "       'mw2171.codfw.wmnet', 'mw2257.codfw.wmnet', 'mw2226.codfw.wmnet',\n",
              "       'DMS/1.0.42', 'nginx/1.6.3', 'Application-Server',\n",
              "       'Apache/2.4.6 (CentOS) mod_fcgid/2.3.9 PHP/5.6.30',\n",
              "       'mw2177.codfw.wmnet', 'lighttpd/1.4.28', 'mw2197.codfw.wmnet',\n",
              "       'Apache/2.2.31 (FreeBSD) PHP/5.4.15 mod_ssl/2.2.31 OpenSSL/1.0.2d DAV/2',\n",
              "       'Apache/2.2.26 (Unix) mod_ssl/2.2.26 OpenSSL/1.0.1e-fips DAV/2 mod_bwlimited/1.4',\n",
              "       'Apache/2.2.24 (Unix) DAV/2 PHP/5.3.26 mod_ssl/2.2.24 OpenSSL/0.9.8y',\n",
              "       'mw2178.codfw.wmnet', '294', 'Microsoft-IIS/6.0', 'nginx/1.7.4',\n",
              "       'Apache/2.2.22 (Debian) mod_python/3.3.1 Python/2.7.3 mod_ssl/2.2.22 OpenSSL/1.0.1t',\n",
              "       'Apache/2.4.16 (Ubuntu)', 'www.lexisnexis.com  9999',\n",
              "       'nginx/0.8.38', 'mw2238.codfw.wmnet', 'Pizza/pepperoni',\n",
              "       'XXXXXXXXXXXXXXXXXXXXXX', 'MI', 'Roxen/5.4.98-r2',\n",
              "       'Apache/2.2.31 (Unix) mod_ssl/2.2.31 OpenSSL/1.0.1e-fips mod_bwlimited/1.4',\n",
              "       'nginx/1.9.13', 'mw2180.codfw.wmnet', 'Apache/2.2.14 (Ubuntu)',\n",
              "       'ebay server', 'nginx/0.8.55', 'Apache/2.2.10 (Linux/SUSE)',\n",
              "       'nginx/1.7.12',\n",
              "       'Apache/2.0.63 (Unix) mod_ssl/2.0.63 OpenSSL/0.9.8e-fips-rhel5 mod_auth_passthrough/2.1 mod_bwlimited/1.4 PHP/5.3.6',\n",
              "       'Boston.com Frontend', 'My Arse', 'IdeaWebServer/v0.80',\n",
              "       'Apache/2.4.17 (Unix) OpenSSL/1.0.1e-fips PHP/5.6.19',\n",
              "       'Microsoft-IIS/7.5; litigation_essentials.lexisnexis.com  9999',\n",
              "       'Apache/2.2.16 (Debian)'], dtype=object)"
            ]
          },
          "metadata": {},
          "execution_count": 30
        }
      ],
      "source": [
        "# Your code here\n",
        "\n",
        "websites['SERVER'].unique()\n"
      ]
    },
    {
      "cell_type": "markdown",
      "metadata": {
        "id": "vJhjJ3O81i10"
      },
      "source": [
        "![Think Hard](../images/think-hard.jpg)"
      ]
    },
    {
      "cell_type": "markdown",
      "metadata": {
        "id": "LD3ZFHyG1i11"
      },
      "source": [
        "Although there are so many unique values in the `SERVER` column, there are actually only 3 main server types: `Microsoft`, `Apache`, and `nginx`. Just check if each `SERVER` value contains any of those server types and re-label them. For `SERVER` values that don't contain any of those substrings, label with `Other`.\n",
        "\n",
        "At the end, your `SERVER` column should only contain 4 unique values: `Microsoft`, `Apache`, `nginx`, and `Other`."
      ]
    },
    {
      "cell_type": "code",
      "execution_count": 31,
      "metadata": {
        "id": "ykudG7Ni1i11"
      },
      "outputs": [],
      "source": [
        "# Your code here\n",
        "\n",
        "# Define the main server types\n",
        "main_server_types = ['Microsoft', 'Apache', 'nginx']\n",
        "\n",
        "# Function to re-label server types\n",
        "def label_server_type(server):\n",
        "    for server_type in main_server_types:\n",
        "        if server_type in server:\n",
        "            return server_type\n",
        "    return 'Other'\n",
        "\n",
        "# Apply the function to re-label the 'SERVER' column\n",
        "websites['SERVER'] = websites['SERVER'].apply(label_server_type)\n",
        "\n"
      ]
    },
    {
      "cell_type": "code",
      "execution_count": 32,
      "metadata": {
        "scrolled": false,
        "colab": {
          "base_uri": "https://localhost:8080/"
        },
        "id": "qa7a1sOY1i11",
        "outputId": "89da0546-9e97-4693-a50c-c5c6b1b33df6"
      },
      "outputs": [
        {
          "output_type": "execute_result",
          "data": {
            "text/plain": [
              "Apache       642\n",
              "Other        504\n",
              "nginx        435\n",
              "Microsoft    198\n",
              "Name: SERVER, dtype: int64"
            ]
          },
          "metadata": {},
          "execution_count": 32
        }
      ],
      "source": [
        "# Count `SERVER` value counts here\n",
        "\n",
        "websites['SERVER'].value_counts()\n"
      ]
    },
    {
      "cell_type": "markdown",
      "metadata": {
        "id": "ohYZoLHP1i11"
      },
      "source": [
        "OK, all our categorical data are fixed now. **Let's convert them to ordinal data using Pandas' `get_dummies` function ([documentation](https://pandas.pydata.org/pandas-docs/stable/generated/pandas.get_dummies.html)). Also, assign the data with dummy values to a new variable `website_dummy`.**"
      ]
    },
    {
      "cell_type": "code",
      "execution_count": 33,
      "metadata": {
        "id": "6xIMJYuk1i12"
      },
      "outputs": [],
      "source": [
        "# Your code here\n",
        "\n",
        "website_dummy = pd.get_dummies(websites)\n"
      ]
    },
    {
      "cell_type": "markdown",
      "metadata": {
        "id": "Z2Ow6TCG1i12"
      },
      "source": [
        "Now, inspect `website_dummy` to make sure the data and types are intended - there shouldn't be any categorical columns at this point."
      ]
    },
    {
      "cell_type": "code",
      "execution_count": 34,
      "metadata": {
        "colab": {
          "base_uri": "https://localhost:8080/",
          "height": 273
        },
        "id": "P0WC6Lqo1i12",
        "outputId": "dc54b9b1-5797-4c75-f2a7-95901962a9f7"
      },
      "outputs": [
        {
          "output_type": "execute_result",
          "data": {
            "text/plain": [
              "   URL_LENGTH  NUMBER_SPECIAL_CHARACTERS  DIST_REMOTE_TCP_PORT  REMOTE_IPS  \\\n",
              "0          16                          7                     0           2   \n",
              "1          16                          6                     7           4   \n",
              "2          16                          6                     0           0   \n",
              "3          17                          6                    22           3   \n",
              "4          17                          6                     2           5   \n",
              "\n",
              "   SOURCE_APP_BYTES  REMOTE_APP_BYTES  APP_PACKETS  DNS_QUERY_TIMES  Type  \\\n",
              "0              1153               832            9              2.0     1   \n",
              "1              1265              1230           17              0.0     0   \n",
              "2                 0                 0            0              0.0     0   \n",
              "3             18784              4380           39              8.0     0   \n",
              "4            129889              4586           61              4.0     0   \n",
              "\n",
              "   CHARSET_ISO-8859  ...  WHOIS_COUNTRY_CA  WHOIS_COUNTRY_ES  \\\n",
              "0                 0  ...                 0                 0   \n",
              "1                 0  ...                 0                 0   \n",
              "2                 0  ...                 0                 0   \n",
              "3                 0  ...                 0                 0   \n",
              "4                 0  ...                 0                 0   \n",
              "\n",
              "   WHOIS_COUNTRY_GB  WHOIS_COUNTRY_IN  WHOIS_COUNTRY_JP  WHOIS_COUNTRY_None  \\\n",
              "0                 0                 0                 0                   1   \n",
              "1                 0                 0                 0                   1   \n",
              "2                 0                 0                 0                   1   \n",
              "3                 0                 0                 0                   0   \n",
              "4                 0                 0                 0                   0   \n",
              "\n",
              "   WHOIS_COUNTRY_OTHER  WHOIS_COUNTRY_PA  WHOIS_COUNTRY_UK  WHOIS_COUNTRY_US  \n",
              "0                    0                 0                 0                 0  \n",
              "1                    0                 0                 0                 0  \n",
              "2                    0                 0                 0                 0  \n",
              "3                    0                 0                 0                 1  \n",
              "4                    0                 0                 0                 1  \n",
              "\n",
              "[5 rows x 31 columns]"
            ],
            "text/html": [
              "\n",
              "  <div id=\"df-5d4c60e3-946e-4109-9c98-d42311077e2f\" class=\"colab-df-container\">\n",
              "    <div>\n",
              "<style scoped>\n",
              "    .dataframe tbody tr th:only-of-type {\n",
              "        vertical-align: middle;\n",
              "    }\n",
              "\n",
              "    .dataframe tbody tr th {\n",
              "        vertical-align: top;\n",
              "    }\n",
              "\n",
              "    .dataframe thead th {\n",
              "        text-align: right;\n",
              "    }\n",
              "</style>\n",
              "<table border=\"1\" class=\"dataframe\">\n",
              "  <thead>\n",
              "    <tr style=\"text-align: right;\">\n",
              "      <th></th>\n",
              "      <th>URL_LENGTH</th>\n",
              "      <th>NUMBER_SPECIAL_CHARACTERS</th>\n",
              "      <th>DIST_REMOTE_TCP_PORT</th>\n",
              "      <th>REMOTE_IPS</th>\n",
              "      <th>SOURCE_APP_BYTES</th>\n",
              "      <th>REMOTE_APP_BYTES</th>\n",
              "      <th>APP_PACKETS</th>\n",
              "      <th>DNS_QUERY_TIMES</th>\n",
              "      <th>Type</th>\n",
              "      <th>CHARSET_ISO-8859</th>\n",
              "      <th>...</th>\n",
              "      <th>WHOIS_COUNTRY_CA</th>\n",
              "      <th>WHOIS_COUNTRY_ES</th>\n",
              "      <th>WHOIS_COUNTRY_GB</th>\n",
              "      <th>WHOIS_COUNTRY_IN</th>\n",
              "      <th>WHOIS_COUNTRY_JP</th>\n",
              "      <th>WHOIS_COUNTRY_None</th>\n",
              "      <th>WHOIS_COUNTRY_OTHER</th>\n",
              "      <th>WHOIS_COUNTRY_PA</th>\n",
              "      <th>WHOIS_COUNTRY_UK</th>\n",
              "      <th>WHOIS_COUNTRY_US</th>\n",
              "    </tr>\n",
              "  </thead>\n",
              "  <tbody>\n",
              "    <tr>\n",
              "      <th>0</th>\n",
              "      <td>16</td>\n",
              "      <td>7</td>\n",
              "      <td>0</td>\n",
              "      <td>2</td>\n",
              "      <td>1153</td>\n",
              "      <td>832</td>\n",
              "      <td>9</td>\n",
              "      <td>2.0</td>\n",
              "      <td>1</td>\n",
              "      <td>0</td>\n",
              "      <td>...</td>\n",
              "      <td>0</td>\n",
              "      <td>0</td>\n",
              "      <td>0</td>\n",
              "      <td>0</td>\n",
              "      <td>0</td>\n",
              "      <td>1</td>\n",
              "      <td>0</td>\n",
              "      <td>0</td>\n",
              "      <td>0</td>\n",
              "      <td>0</td>\n",
              "    </tr>\n",
              "    <tr>\n",
              "      <th>1</th>\n",
              "      <td>16</td>\n",
              "      <td>6</td>\n",
              "      <td>7</td>\n",
              "      <td>4</td>\n",
              "      <td>1265</td>\n",
              "      <td>1230</td>\n",
              "      <td>17</td>\n",
              "      <td>0.0</td>\n",
              "      <td>0</td>\n",
              "      <td>0</td>\n",
              "      <td>...</td>\n",
              "      <td>0</td>\n",
              "      <td>0</td>\n",
              "      <td>0</td>\n",
              "      <td>0</td>\n",
              "      <td>0</td>\n",
              "      <td>1</td>\n",
              "      <td>0</td>\n",
              "      <td>0</td>\n",
              "      <td>0</td>\n",
              "      <td>0</td>\n",
              "    </tr>\n",
              "    <tr>\n",
              "      <th>2</th>\n",
              "      <td>16</td>\n",
              "      <td>6</td>\n",
              "      <td>0</td>\n",
              "      <td>0</td>\n",
              "      <td>0</td>\n",
              "      <td>0</td>\n",
              "      <td>0</td>\n",
              "      <td>0.0</td>\n",
              "      <td>0</td>\n",
              "      <td>0</td>\n",
              "      <td>...</td>\n",
              "      <td>0</td>\n",
              "      <td>0</td>\n",
              "      <td>0</td>\n",
              "      <td>0</td>\n",
              "      <td>0</td>\n",
              "      <td>1</td>\n",
              "      <td>0</td>\n",
              "      <td>0</td>\n",
              "      <td>0</td>\n",
              "      <td>0</td>\n",
              "    </tr>\n",
              "    <tr>\n",
              "      <th>3</th>\n",
              "      <td>17</td>\n",
              "      <td>6</td>\n",
              "      <td>22</td>\n",
              "      <td>3</td>\n",
              "      <td>18784</td>\n",
              "      <td>4380</td>\n",
              "      <td>39</td>\n",
              "      <td>8.0</td>\n",
              "      <td>0</td>\n",
              "      <td>0</td>\n",
              "      <td>...</td>\n",
              "      <td>0</td>\n",
              "      <td>0</td>\n",
              "      <td>0</td>\n",
              "      <td>0</td>\n",
              "      <td>0</td>\n",
              "      <td>0</td>\n",
              "      <td>0</td>\n",
              "      <td>0</td>\n",
              "      <td>0</td>\n",
              "      <td>1</td>\n",
              "    </tr>\n",
              "    <tr>\n",
              "      <th>4</th>\n",
              "      <td>17</td>\n",
              "      <td>6</td>\n",
              "      <td>2</td>\n",
              "      <td>5</td>\n",
              "      <td>129889</td>\n",
              "      <td>4586</td>\n",
              "      <td>61</td>\n",
              "      <td>4.0</td>\n",
              "      <td>0</td>\n",
              "      <td>0</td>\n",
              "      <td>...</td>\n",
              "      <td>0</td>\n",
              "      <td>0</td>\n",
              "      <td>0</td>\n",
              "      <td>0</td>\n",
              "      <td>0</td>\n",
              "      <td>0</td>\n",
              "      <td>0</td>\n",
              "      <td>0</td>\n",
              "      <td>0</td>\n",
              "      <td>1</td>\n",
              "    </tr>\n",
              "  </tbody>\n",
              "</table>\n",
              "<p>5 rows × 31 columns</p>\n",
              "</div>\n",
              "    <div class=\"colab-df-buttons\">\n",
              "\n",
              "  <div class=\"colab-df-container\">\n",
              "    <button class=\"colab-df-convert\" onclick=\"convertToInteractive('df-5d4c60e3-946e-4109-9c98-d42311077e2f')\"\n",
              "            title=\"Convert this dataframe to an interactive table.\"\n",
              "            style=\"display:none;\">\n",
              "\n",
              "  <svg xmlns=\"http://www.w3.org/2000/svg\" height=\"24px\" viewBox=\"0 -960 960 960\">\n",
              "    <path d=\"M120-120v-720h720v720H120Zm60-500h600v-160H180v160Zm220 220h160v-160H400v160Zm0 220h160v-160H400v160ZM180-400h160v-160H180v160Zm440 0h160v-160H620v160ZM180-180h160v-160H180v160Zm440 0h160v-160H620v160Z\"/>\n",
              "  </svg>\n",
              "    </button>\n",
              "\n",
              "  <style>\n",
              "    .colab-df-container {\n",
              "      display:flex;\n",
              "      gap: 12px;\n",
              "    }\n",
              "\n",
              "    .colab-df-convert {\n",
              "      background-color: #E8F0FE;\n",
              "      border: none;\n",
              "      border-radius: 50%;\n",
              "      cursor: pointer;\n",
              "      display: none;\n",
              "      fill: #1967D2;\n",
              "      height: 32px;\n",
              "      padding: 0 0 0 0;\n",
              "      width: 32px;\n",
              "    }\n",
              "\n",
              "    .colab-df-convert:hover {\n",
              "      background-color: #E2EBFA;\n",
              "      box-shadow: 0px 1px 2px rgba(60, 64, 67, 0.3), 0px 1px 3px 1px rgba(60, 64, 67, 0.15);\n",
              "      fill: #174EA6;\n",
              "    }\n",
              "\n",
              "    .colab-df-buttons div {\n",
              "      margin-bottom: 4px;\n",
              "    }\n",
              "\n",
              "    [theme=dark] .colab-df-convert {\n",
              "      background-color: #3B4455;\n",
              "      fill: #D2E3FC;\n",
              "    }\n",
              "\n",
              "    [theme=dark] .colab-df-convert:hover {\n",
              "      background-color: #434B5C;\n",
              "      box-shadow: 0px 1px 3px 1px rgba(0, 0, 0, 0.15);\n",
              "      filter: drop-shadow(0px 1px 2px rgba(0, 0, 0, 0.3));\n",
              "      fill: #FFFFFF;\n",
              "    }\n",
              "  </style>\n",
              "\n",
              "    <script>\n",
              "      const buttonEl =\n",
              "        document.querySelector('#df-5d4c60e3-946e-4109-9c98-d42311077e2f button.colab-df-convert');\n",
              "      buttonEl.style.display =\n",
              "        google.colab.kernel.accessAllowed ? 'block' : 'none';\n",
              "\n",
              "      async function convertToInteractive(key) {\n",
              "        const element = document.querySelector('#df-5d4c60e3-946e-4109-9c98-d42311077e2f');\n",
              "        const dataTable =\n",
              "          await google.colab.kernel.invokeFunction('convertToInteractive',\n",
              "                                                    [key], {});\n",
              "        if (!dataTable) return;\n",
              "\n",
              "        const docLinkHtml = 'Like what you see? Visit the ' +\n",
              "          '<a target=\"_blank\" href=https://colab.research.google.com/notebooks/data_table.ipynb>data table notebook</a>'\n",
              "          + ' to learn more about interactive tables.';\n",
              "        element.innerHTML = '';\n",
              "        dataTable['output_type'] = 'display_data';\n",
              "        await google.colab.output.renderOutput(dataTable, element);\n",
              "        const docLink = document.createElement('div');\n",
              "        docLink.innerHTML = docLinkHtml;\n",
              "        element.appendChild(docLink);\n",
              "      }\n",
              "    </script>\n",
              "  </div>\n",
              "\n",
              "\n",
              "<div id=\"df-1a2149d8-5ad8-4154-aee6-a106f3db1fdb\">\n",
              "  <button class=\"colab-df-quickchart\" onclick=\"quickchart('df-1a2149d8-5ad8-4154-aee6-a106f3db1fdb')\"\n",
              "            title=\"Suggest charts\"\n",
              "            style=\"display:none;\">\n",
              "\n",
              "<svg xmlns=\"http://www.w3.org/2000/svg\" height=\"24px\"viewBox=\"0 0 24 24\"\n",
              "     width=\"24px\">\n",
              "    <g>\n",
              "        <path d=\"M19 3H5c-1.1 0-2 .9-2 2v14c0 1.1.9 2 2 2h14c1.1 0 2-.9 2-2V5c0-1.1-.9-2-2-2zM9 17H7v-7h2v7zm4 0h-2V7h2v10zm4 0h-2v-4h2v4z\"/>\n",
              "    </g>\n",
              "</svg>\n",
              "  </button>\n",
              "\n",
              "<style>\n",
              "  .colab-df-quickchart {\n",
              "      --bg-color: #E8F0FE;\n",
              "      --fill-color: #1967D2;\n",
              "      --hover-bg-color: #E2EBFA;\n",
              "      --hover-fill-color: #174EA6;\n",
              "      --disabled-fill-color: #AAA;\n",
              "      --disabled-bg-color: #DDD;\n",
              "  }\n",
              "\n",
              "  [theme=dark] .colab-df-quickchart {\n",
              "      --bg-color: #3B4455;\n",
              "      --fill-color: #D2E3FC;\n",
              "      --hover-bg-color: #434B5C;\n",
              "      --hover-fill-color: #FFFFFF;\n",
              "      --disabled-bg-color: #3B4455;\n",
              "      --disabled-fill-color: #666;\n",
              "  }\n",
              "\n",
              "  .colab-df-quickchart {\n",
              "    background-color: var(--bg-color);\n",
              "    border: none;\n",
              "    border-radius: 50%;\n",
              "    cursor: pointer;\n",
              "    display: none;\n",
              "    fill: var(--fill-color);\n",
              "    height: 32px;\n",
              "    padding: 0;\n",
              "    width: 32px;\n",
              "  }\n",
              "\n",
              "  .colab-df-quickchart:hover {\n",
              "    background-color: var(--hover-bg-color);\n",
              "    box-shadow: 0 1px 2px rgba(60, 64, 67, 0.3), 0 1px 3px 1px rgba(60, 64, 67, 0.15);\n",
              "    fill: var(--button-hover-fill-color);\n",
              "  }\n",
              "\n",
              "  .colab-df-quickchart-complete:disabled,\n",
              "  .colab-df-quickchart-complete:disabled:hover {\n",
              "    background-color: var(--disabled-bg-color);\n",
              "    fill: var(--disabled-fill-color);\n",
              "    box-shadow: none;\n",
              "  }\n",
              "\n",
              "  .colab-df-spinner {\n",
              "    border: 2px solid var(--fill-color);\n",
              "    border-color: transparent;\n",
              "    border-bottom-color: var(--fill-color);\n",
              "    animation:\n",
              "      spin 1s steps(1) infinite;\n",
              "  }\n",
              "\n",
              "  @keyframes spin {\n",
              "    0% {\n",
              "      border-color: transparent;\n",
              "      border-bottom-color: var(--fill-color);\n",
              "      border-left-color: var(--fill-color);\n",
              "    }\n",
              "    20% {\n",
              "      border-color: transparent;\n",
              "      border-left-color: var(--fill-color);\n",
              "      border-top-color: var(--fill-color);\n",
              "    }\n",
              "    30% {\n",
              "      border-color: transparent;\n",
              "      border-left-color: var(--fill-color);\n",
              "      border-top-color: var(--fill-color);\n",
              "      border-right-color: var(--fill-color);\n",
              "    }\n",
              "    40% {\n",
              "      border-color: transparent;\n",
              "      border-right-color: var(--fill-color);\n",
              "      border-top-color: var(--fill-color);\n",
              "    }\n",
              "    60% {\n",
              "      border-color: transparent;\n",
              "      border-right-color: var(--fill-color);\n",
              "    }\n",
              "    80% {\n",
              "      border-color: transparent;\n",
              "      border-right-color: var(--fill-color);\n",
              "      border-bottom-color: var(--fill-color);\n",
              "    }\n",
              "    90% {\n",
              "      border-color: transparent;\n",
              "      border-bottom-color: var(--fill-color);\n",
              "    }\n",
              "  }\n",
              "</style>\n",
              "\n",
              "  <script>\n",
              "    async function quickchart(key) {\n",
              "      const quickchartButtonEl =\n",
              "        document.querySelector('#' + key + ' button');\n",
              "      quickchartButtonEl.disabled = true;  // To prevent multiple clicks.\n",
              "      quickchartButtonEl.classList.add('colab-df-spinner');\n",
              "      try {\n",
              "        const charts = await google.colab.kernel.invokeFunction(\n",
              "            'suggestCharts', [key], {});\n",
              "      } catch (error) {\n",
              "        console.error('Error during call to suggestCharts:', error);\n",
              "      }\n",
              "      quickchartButtonEl.classList.remove('colab-df-spinner');\n",
              "      quickchartButtonEl.classList.add('colab-df-quickchart-complete');\n",
              "    }\n",
              "    (() => {\n",
              "      let quickchartButtonEl =\n",
              "        document.querySelector('#df-1a2149d8-5ad8-4154-aee6-a106f3db1fdb button');\n",
              "      quickchartButtonEl.style.display =\n",
              "        google.colab.kernel.accessAllowed ? 'block' : 'none';\n",
              "    })();\n",
              "  </script>\n",
              "</div>\n",
              "    </div>\n",
              "  </div>\n"
            ],
            "application/vnd.google.colaboratory.intrinsic+json": {
              "type": "dataframe",
              "variable_name": "website_dummy"
            }
          },
          "metadata": {},
          "execution_count": 34
        }
      ],
      "source": [
        "# Your code here\n",
        "\n",
        "website_dummy.head(5)"
      ]
    },
    {
      "cell_type": "markdown",
      "metadata": {
        "id": "IgLAjesJ1i12"
      },
      "source": [
        "# Challenge 6 - Modeling, Prediction, and Evaluation\n",
        "\n",
        "We'll start off this section by splitting the data to train and test. **Name your 4 variables `X_train`, `X_test`, `y_train`, and `y_test`. Select 80% of the data for training and 20% for testing.**"
      ]
    },
    {
      "cell_type": "code",
      "execution_count": 35,
      "metadata": {
        "id": "prpSP1L31i12"
      },
      "outputs": [],
      "source": [
        "from sklearn.model_selection import train_test_split\n",
        "\n",
        "# Your code here:\n",
        "\n",
        "X = website_dummy.drop(columns=['Type'])\n",
        "\n",
        "y = website_dummy['Type']\n"
      ]
    },
    {
      "cell_type": "code",
      "source": [
        "# Split the data into training and testing sets (80% train, 20% test)\n",
        "X_train, X_test, y_train, y_test = train_test_split(X, y, test_size=0.2, random_state=42)"
      ],
      "metadata": {
        "id": "x6EnypDrQTbk"
      },
      "execution_count": 36,
      "outputs": []
    },
    {
      "cell_type": "markdown",
      "metadata": {
        "id": "x01JZjbp1i13"
      },
      "source": [
        "#### In this lab, we will try two different models and compare our results.\n",
        "\n",
        "The first model we will use in this lab is logistic regression. We have previously learned about logistic regression as a classification algorithm. In the cell below, load `LogisticRegression` from scikit-learn and initialize the model."
      ]
    },
    {
      "cell_type": "code",
      "execution_count": 37,
      "metadata": {
        "id": "CrionQ5u1i13"
      },
      "outputs": [],
      "source": [
        "# Your code here:\n",
        "\n",
        "from sklearn.linear_model import LogisticRegression\n",
        "\n",
        "# Initialize the logistic regression model\n",
        "logistic_regression_model = LogisticRegression()\n",
        "\n",
        "\n"
      ]
    },
    {
      "cell_type": "markdown",
      "metadata": {
        "id": "okPq3AMR1i13"
      },
      "source": [
        "Next, fit the model to our training data. We have already separated our data into 4 parts. Use those in your model."
      ]
    },
    {
      "cell_type": "code",
      "execution_count": 38,
      "metadata": {
        "colab": {
          "base_uri": "https://localhost:8080/",
          "height": 214
        },
        "id": "-UZDtIYc1i13",
        "outputId": "ac9e49a4-6975-4b13-9c3a-7fd317bcd627"
      },
      "outputs": [
        {
          "output_type": "stream",
          "name": "stderr",
          "text": [
            "/usr/local/lib/python3.10/dist-packages/sklearn/linear_model/_logistic.py:458: ConvergenceWarning: lbfgs failed to converge (status=1):\n",
            "STOP: TOTAL NO. of ITERATIONS REACHED LIMIT.\n",
            "\n",
            "Increase the number of iterations (max_iter) or scale the data as shown in:\n",
            "    https://scikit-learn.org/stable/modules/preprocessing.html\n",
            "Please also refer to the documentation for alternative solver options:\n",
            "    https://scikit-learn.org/stable/modules/linear_model.html#logistic-regression\n",
            "  n_iter_i = _check_optimize_result(\n"
          ]
        },
        {
          "output_type": "execute_result",
          "data": {
            "text/plain": [
              "LogisticRegression()"
            ],
            "text/html": [
              "<style>#sk-container-id-1 {color: black;background-color: white;}#sk-container-id-1 pre{padding: 0;}#sk-container-id-1 div.sk-toggleable {background-color: white;}#sk-container-id-1 label.sk-toggleable__label {cursor: pointer;display: block;width: 100%;margin-bottom: 0;padding: 0.3em;box-sizing: border-box;text-align: center;}#sk-container-id-1 label.sk-toggleable__label-arrow:before {content: \"▸\";float: left;margin-right: 0.25em;color: #696969;}#sk-container-id-1 label.sk-toggleable__label-arrow:hover:before {color: black;}#sk-container-id-1 div.sk-estimator:hover label.sk-toggleable__label-arrow:before {color: black;}#sk-container-id-1 div.sk-toggleable__content {max-height: 0;max-width: 0;overflow: hidden;text-align: left;background-color: #f0f8ff;}#sk-container-id-1 div.sk-toggleable__content pre {margin: 0.2em;color: black;border-radius: 0.25em;background-color: #f0f8ff;}#sk-container-id-1 input.sk-toggleable__control:checked~div.sk-toggleable__content {max-height: 200px;max-width: 100%;overflow: auto;}#sk-container-id-1 input.sk-toggleable__control:checked~label.sk-toggleable__label-arrow:before {content: \"▾\";}#sk-container-id-1 div.sk-estimator input.sk-toggleable__control:checked~label.sk-toggleable__label {background-color: #d4ebff;}#sk-container-id-1 div.sk-label input.sk-toggleable__control:checked~label.sk-toggleable__label {background-color: #d4ebff;}#sk-container-id-1 input.sk-hidden--visually {border: 0;clip: rect(1px 1px 1px 1px);clip: rect(1px, 1px, 1px, 1px);height: 1px;margin: -1px;overflow: hidden;padding: 0;position: absolute;width: 1px;}#sk-container-id-1 div.sk-estimator {font-family: monospace;background-color: #f0f8ff;border: 1px dotted black;border-radius: 0.25em;box-sizing: border-box;margin-bottom: 0.5em;}#sk-container-id-1 div.sk-estimator:hover {background-color: #d4ebff;}#sk-container-id-1 div.sk-parallel-item::after {content: \"\";width: 100%;border-bottom: 1px solid gray;flex-grow: 1;}#sk-container-id-1 div.sk-label:hover label.sk-toggleable__label {background-color: #d4ebff;}#sk-container-id-1 div.sk-serial::before {content: \"\";position: absolute;border-left: 1px solid gray;box-sizing: border-box;top: 0;bottom: 0;left: 50%;z-index: 0;}#sk-container-id-1 div.sk-serial {display: flex;flex-direction: column;align-items: center;background-color: white;padding-right: 0.2em;padding-left: 0.2em;position: relative;}#sk-container-id-1 div.sk-item {position: relative;z-index: 1;}#sk-container-id-1 div.sk-parallel {display: flex;align-items: stretch;justify-content: center;background-color: white;position: relative;}#sk-container-id-1 div.sk-item::before, #sk-container-id-1 div.sk-parallel-item::before {content: \"\";position: absolute;border-left: 1px solid gray;box-sizing: border-box;top: 0;bottom: 0;left: 50%;z-index: -1;}#sk-container-id-1 div.sk-parallel-item {display: flex;flex-direction: column;z-index: 1;position: relative;background-color: white;}#sk-container-id-1 div.sk-parallel-item:first-child::after {align-self: flex-end;width: 50%;}#sk-container-id-1 div.sk-parallel-item:last-child::after {align-self: flex-start;width: 50%;}#sk-container-id-1 div.sk-parallel-item:only-child::after {width: 0;}#sk-container-id-1 div.sk-dashed-wrapped {border: 1px dashed gray;margin: 0 0.4em 0.5em 0.4em;box-sizing: border-box;padding-bottom: 0.4em;background-color: white;}#sk-container-id-1 div.sk-label label {font-family: monospace;font-weight: bold;display: inline-block;line-height: 1.2em;}#sk-container-id-1 div.sk-label-container {text-align: center;}#sk-container-id-1 div.sk-container {/* jupyter's `normalize.less` sets `[hidden] { display: none; }` but bootstrap.min.css set `[hidden] { display: none !important; }` so we also need the `!important` here to be able to override the default hidden behavior on the sphinx rendered scikit-learn.org. See: https://github.com/scikit-learn/scikit-learn/issues/21755 */display: inline-block !important;position: relative;}#sk-container-id-1 div.sk-text-repr-fallback {display: none;}</style><div id=\"sk-container-id-1\" class=\"sk-top-container\"><div class=\"sk-text-repr-fallback\"><pre>LogisticRegression()</pre><b>In a Jupyter environment, please rerun this cell to show the HTML representation or trust the notebook. <br />On GitHub, the HTML representation is unable to render, please try loading this page with nbviewer.org.</b></div><div class=\"sk-container\" hidden><div class=\"sk-item\"><div class=\"sk-estimator sk-toggleable\"><input class=\"sk-toggleable__control sk-hidden--visually\" id=\"sk-estimator-id-1\" type=\"checkbox\" checked><label for=\"sk-estimator-id-1\" class=\"sk-toggleable__label sk-toggleable__label-arrow\">LogisticRegression</label><div class=\"sk-toggleable__content\"><pre>LogisticRegression()</pre></div></div></div></div></div>"
            ]
          },
          "metadata": {},
          "execution_count": 38
        }
      ],
      "source": [
        "# Your code here:\n",
        "\n",
        "logistic_regression_model.fit(X_train, y_train)\n",
        "\n"
      ]
    },
    {
      "cell_type": "markdown",
      "metadata": {
        "id": "VK96E18R1i13"
      },
      "source": [
        "finally, import `confusion_matrix` and `accuracy_score` from `sklearn.metrics` and fit our testing data. Assign the fitted data to `y_pred` and print the confusion matrix as well as the accuracy score"
      ]
    },
    {
      "cell_type": "code",
      "execution_count": 39,
      "metadata": {
        "colab": {
          "base_uri": "https://localhost:8080/"
        },
        "id": "MUUOaapT1i14",
        "outputId": "768978db-a7de-4a7d-8cab-10f408631386"
      },
      "outputs": [
        {
          "output_type": "stream",
          "name": "stdout",
          "text": [
            "Confusion Matrix:\n",
            "[[311   4]\n",
            " [ 32   9]]\n",
            "Accuracy Score: 0.898876404494382\n"
          ]
        }
      ],
      "source": [
        "# Your code here:\n",
        "from sklearn.metrics import confusion_matrix, accuracy_score\n",
        "\n",
        "# Use the fitted logistic regression model to make predictions on the test data\n",
        "y_pred = logistic_regression_model.predict(X_test)\n",
        "\n",
        "# Calculate and print the confusion matrix\n",
        "conf_matrix = confusion_matrix(y_test, y_pred)\n",
        "print(\"Confusion Matrix:\")\n",
        "print(conf_matrix)\n",
        "\n",
        "# Calculate and print the accuracy score\n",
        "accuracy = accuracy_score(y_test, y_pred)\n",
        "print(\"Accuracy Score:\", accuracy)\n",
        "\n",
        "\n"
      ]
    },
    {
      "cell_type": "markdown",
      "metadata": {
        "id": "3gLkMtTW1i14"
      },
      "source": [
        "What are your thoughts on the performance of the model? Write your conclusions below."
      ]
    },
    {
      "cell_type": "code",
      "execution_count": null,
      "metadata": {
        "id": "IJ74mn0W1i14"
      },
      "outputs": [],
      "source": [
        "# Your conclusions here:\n",
        "\n",
        "# I think the model has a lot of room to improve, the accuracy score is close to 90% which is not bad but far away from being perfect,\n",
        "# and as we can see in the confusion Matrix there is a big number of instances that were incorrectly predicted as negative."
      ]
    },
    {
      "cell_type": "markdown",
      "metadata": {
        "id": "0C9lXtJA1i14"
      },
      "source": [
        "#### Our second algorithm is is K-Nearest Neighbors.\n",
        "\n",
        "Though is it not required, we will fit a model using the training data and then test the performance of the model using the testing data. Start by loading `KNeighborsClassifier` from scikit-learn and then initializing and fitting the model. We'll start off with a model where k=3."
      ]
    },
    {
      "cell_type": "code",
      "execution_count": 40,
      "metadata": {
        "colab": {
          "base_uri": "https://localhost:8080/",
          "height": 75
        },
        "id": "L40VmcjI1i14",
        "outputId": "421ec77b-e197-4bcf-e313-9511431f1f69"
      },
      "outputs": [
        {
          "output_type": "execute_result",
          "data": {
            "text/plain": [
              "KNeighborsClassifier(n_neighbors=3)"
            ],
            "text/html": [
              "<style>#sk-container-id-2 {color: black;background-color: white;}#sk-container-id-2 pre{padding: 0;}#sk-container-id-2 div.sk-toggleable {background-color: white;}#sk-container-id-2 label.sk-toggleable__label {cursor: pointer;display: block;width: 100%;margin-bottom: 0;padding: 0.3em;box-sizing: border-box;text-align: center;}#sk-container-id-2 label.sk-toggleable__label-arrow:before {content: \"▸\";float: left;margin-right: 0.25em;color: #696969;}#sk-container-id-2 label.sk-toggleable__label-arrow:hover:before {color: black;}#sk-container-id-2 div.sk-estimator:hover label.sk-toggleable__label-arrow:before {color: black;}#sk-container-id-2 div.sk-toggleable__content {max-height: 0;max-width: 0;overflow: hidden;text-align: left;background-color: #f0f8ff;}#sk-container-id-2 div.sk-toggleable__content pre {margin: 0.2em;color: black;border-radius: 0.25em;background-color: #f0f8ff;}#sk-container-id-2 input.sk-toggleable__control:checked~div.sk-toggleable__content {max-height: 200px;max-width: 100%;overflow: auto;}#sk-container-id-2 input.sk-toggleable__control:checked~label.sk-toggleable__label-arrow:before {content: \"▾\";}#sk-container-id-2 div.sk-estimator input.sk-toggleable__control:checked~label.sk-toggleable__label {background-color: #d4ebff;}#sk-container-id-2 div.sk-label input.sk-toggleable__control:checked~label.sk-toggleable__label {background-color: #d4ebff;}#sk-container-id-2 input.sk-hidden--visually {border: 0;clip: rect(1px 1px 1px 1px);clip: rect(1px, 1px, 1px, 1px);height: 1px;margin: -1px;overflow: hidden;padding: 0;position: absolute;width: 1px;}#sk-container-id-2 div.sk-estimator {font-family: monospace;background-color: #f0f8ff;border: 1px dotted black;border-radius: 0.25em;box-sizing: border-box;margin-bottom: 0.5em;}#sk-container-id-2 div.sk-estimator:hover {background-color: #d4ebff;}#sk-container-id-2 div.sk-parallel-item::after {content: \"\";width: 100%;border-bottom: 1px solid gray;flex-grow: 1;}#sk-container-id-2 div.sk-label:hover label.sk-toggleable__label {background-color: #d4ebff;}#sk-container-id-2 div.sk-serial::before {content: \"\";position: absolute;border-left: 1px solid gray;box-sizing: border-box;top: 0;bottom: 0;left: 50%;z-index: 0;}#sk-container-id-2 div.sk-serial {display: flex;flex-direction: column;align-items: center;background-color: white;padding-right: 0.2em;padding-left: 0.2em;position: relative;}#sk-container-id-2 div.sk-item {position: relative;z-index: 1;}#sk-container-id-2 div.sk-parallel {display: flex;align-items: stretch;justify-content: center;background-color: white;position: relative;}#sk-container-id-2 div.sk-item::before, #sk-container-id-2 div.sk-parallel-item::before {content: \"\";position: absolute;border-left: 1px solid gray;box-sizing: border-box;top: 0;bottom: 0;left: 50%;z-index: -1;}#sk-container-id-2 div.sk-parallel-item {display: flex;flex-direction: column;z-index: 1;position: relative;background-color: white;}#sk-container-id-2 div.sk-parallel-item:first-child::after {align-self: flex-end;width: 50%;}#sk-container-id-2 div.sk-parallel-item:last-child::after {align-self: flex-start;width: 50%;}#sk-container-id-2 div.sk-parallel-item:only-child::after {width: 0;}#sk-container-id-2 div.sk-dashed-wrapped {border: 1px dashed gray;margin: 0 0.4em 0.5em 0.4em;box-sizing: border-box;padding-bottom: 0.4em;background-color: white;}#sk-container-id-2 div.sk-label label {font-family: monospace;font-weight: bold;display: inline-block;line-height: 1.2em;}#sk-container-id-2 div.sk-label-container {text-align: center;}#sk-container-id-2 div.sk-container {/* jupyter's `normalize.less` sets `[hidden] { display: none; }` but bootstrap.min.css set `[hidden] { display: none !important; }` so we also need the `!important` here to be able to override the default hidden behavior on the sphinx rendered scikit-learn.org. See: https://github.com/scikit-learn/scikit-learn/issues/21755 */display: inline-block !important;position: relative;}#sk-container-id-2 div.sk-text-repr-fallback {display: none;}</style><div id=\"sk-container-id-2\" class=\"sk-top-container\"><div class=\"sk-text-repr-fallback\"><pre>KNeighborsClassifier(n_neighbors=3)</pre><b>In a Jupyter environment, please rerun this cell to show the HTML representation or trust the notebook. <br />On GitHub, the HTML representation is unable to render, please try loading this page with nbviewer.org.</b></div><div class=\"sk-container\" hidden><div class=\"sk-item\"><div class=\"sk-estimator sk-toggleable\"><input class=\"sk-toggleable__control sk-hidden--visually\" id=\"sk-estimator-id-2\" type=\"checkbox\" checked><label for=\"sk-estimator-id-2\" class=\"sk-toggleable__label sk-toggleable__label-arrow\">KNeighborsClassifier</label><div class=\"sk-toggleable__content\"><pre>KNeighborsClassifier(n_neighbors=3)</pre></div></div></div></div></div>"
            ]
          },
          "metadata": {},
          "execution_count": 40
        }
      ],
      "source": [
        "# Your code here:\n",
        "\n",
        "from sklearn.neighbors import KNeighborsClassifier\n",
        "\n",
        "# Initialize the KNeighborsClassifier model with k=3\n",
        "knn_model = KNeighborsClassifier(n_neighbors=3)\n",
        "\n",
        "# Fit the model to the training data\n",
        "knn_model.fit(X_train, y_train)\n",
        "\n"
      ]
    },
    {
      "cell_type": "markdown",
      "metadata": {
        "id": "JHHC4pvL1i14"
      },
      "source": [
        "To test your model, compute the predicted values for the testing sample and print the confusion matrix as well as the accuracy score."
      ]
    },
    {
      "cell_type": "code",
      "execution_count": 41,
      "metadata": {
        "colab": {
          "base_uri": "https://localhost:8080/"
        },
        "id": "wWatj0s81i15",
        "outputId": "06d71958-dbb3-4512-8797-02c7d87ccefb"
      },
      "outputs": [
        {
          "output_type": "stream",
          "name": "stdout",
          "text": [
            "Confusion Matrix (KNeighborsClassifier, k=3):\n",
            "[[304  11]\n",
            " [ 17  24]]\n",
            "Accuracy Score (KNeighborsClassifier, k=3): 0.9213483146067416\n"
          ]
        }
      ],
      "source": [
        "# Your code here:\n",
        "\n",
        "# Compute the predicted values for the testing sample\n",
        "y_pred_knn = knn_model.predict(X_test)\n",
        "\n",
        "# Print the confusion matrix\n",
        "conf_matrix_knn = confusion_matrix(y_test, y_pred_knn)\n",
        "print(\"Confusion Matrix (KNeighborsClassifier, k=3):\")\n",
        "print(conf_matrix_knn)\n",
        "\n",
        "# Print the accuracy score\n",
        "accuracy_knn = accuracy_score(y_test, y_pred_knn)\n",
        "print(\"Accuracy Score (KNeighborsClassifier, k=3):\", accuracy_knn)\n"
      ]
    },
    {
      "cell_type": "markdown",
      "metadata": {
        "id": "aJFPK2NG1i15"
      },
      "source": [
        "#### We'll create another K-Nearest Neighbors model with k=5.\n",
        "\n",
        "Initialize and fit the model below and print the confusion matrix and the accuracy score."
      ]
    },
    {
      "cell_type": "code",
      "execution_count": 42,
      "metadata": {
        "colab": {
          "base_uri": "https://localhost:8080/"
        },
        "id": "0v6cOPDP1i15",
        "outputId": "12291b7f-19fa-4ea1-adac-373de4aa1ed3"
      },
      "outputs": [
        {
          "output_type": "stream",
          "name": "stdout",
          "text": [
            "Confusion Matrix (KNeighborsClassifier, k=5):\n",
            "[[303  12]\n",
            " [ 17  24]]\n",
            "Accuracy Score (KNeighborsClassifier, k=5): 0.9185393258426966\n"
          ]
        }
      ],
      "source": [
        "# Your code here:\n",
        "\n",
        "# Initialize the KNeighborsClassifier model with k=5\n",
        "knn_model = KNeighborsClassifier(n_neighbors=5)\n",
        "\n",
        "# Fit the model to the training data\n",
        "knn_model.fit(X_train, y_train)\n",
        "\n",
        "# Compute the predicted values for the testing sample\n",
        "y_pred_knn = knn_model.predict(X_test)\n",
        "\n",
        "# Print the confusion matrix\n",
        "conf_matrix_knn = confusion_matrix(y_test, y_pred_knn)\n",
        "print(\"Confusion Matrix (KNeighborsClassifier, k=5):\")\n",
        "print(conf_matrix_knn)\n",
        "\n",
        "# Print the accuracy score\n",
        "accuracy_knn = accuracy_score(y_test, y_pred_knn)\n",
        "print(\"Accuracy Score (KNeighborsClassifier, k=5):\", accuracy_knn)"
      ]
    },
    {
      "cell_type": "markdown",
      "metadata": {
        "id": "OttKFjaa1i15"
      },
      "source": [
        "Did you see an improvement in the confusion matrix when increasing k to 5? Did you see an improvement in the accuracy score? Write your conclusions below."
      ]
    },
    {
      "cell_type": "code",
      "execution_count": null,
      "metadata": {
        "id": "_kmwuWFn1i15"
      },
      "outputs": [],
      "source": [
        "# Your conclusions here:\n",
        "\n",
        "#There was no observed improvement in either the accuracy score or the confusion matrix when increasing the value of k from 3 to 5 for the KNeighborsClassifier model in this scenario.\n"
      ]
    },
    {
      "cell_type": "markdown",
      "metadata": {
        "id": "KQGcxMaz1i15"
      },
      "source": [
        "# Bonus Challenge - Feature Scaling\n",
        "\n",
        "Problem-solving in machine learning is iterative. You can improve your model prediction with various techniques (there is a sweetspot for the time you spend and the improvement you receive though). Now you've completed only one iteration of ML analysis. There are more iterations you can conduct to make improvements. In order to be able to do that, you will need deeper knowledge in statistics and master more data analysis techniques. In this bootcamp, we don't have time to achieve that advanced goal. But you will make constant efforts after the bootcamp to eventually get there.\n",
        "\n",
        "However, now we do want you to learn one of the advanced techniques which is called *feature scaling*. The idea of feature scaling is to standardize/normalize the range of independent variables or features of the data. This can make the outliers more apparent so that you can remove them. This step needs to happen during Challenge 6 after you split the training and test data because you don't want to split the data again which makes it impossible to compare your results with and without feature scaling. For general concepts about feature scaling, click [here](https://en.wikipedia.org/wiki/Feature_scaling). To read deeper, click [here](https://medium.com/greyatom/why-how-and-when-to-scale-your-features-4b30ab09db5e).\n",
        "\n",
        "In the next cell, attempt to improve your model prediction accuracy by means of feature scaling. A library you can utilize is `sklearn.preprocessing.RobustScaler` ([documentation](https://scikit-learn.org/stable/modules/generated/sklearn.preprocessing.RobustScaler.html)). You'll use the `RobustScaler` to fit and transform your `X_train`, then transform `X_test`. You will use logistic regression to fit and predict your transformed data and obtain the accuracy score in the same way. Compare the accuracy score with your normalized data with the previous accuracy data. Is there an improvement?"
      ]
    },
    {
      "cell_type": "code",
      "execution_count": null,
      "metadata": {
        "id": "R7L_Nj3Q1i16"
      },
      "outputs": [],
      "source": [
        "# Your code here"
      ]
    }
  ],
  "metadata": {
    "kernelspec": {
      "display_name": "ironhack-3.7",
      "language": "python",
      "name": "ironhack-3.7"
    },
    "language_info": {
      "codemirror_mode": {
        "name": "ipython",
        "version": 3
      },
      "file_extension": ".py",
      "mimetype": "text/x-python",
      "name": "python",
      "nbconvert_exporter": "python",
      "pygments_lexer": "ipython3",
      "version": "3.7.3"
    },
    "colab": {
      "provenance": []
    }
  },
  "nbformat": 4,
  "nbformat_minor": 0
}